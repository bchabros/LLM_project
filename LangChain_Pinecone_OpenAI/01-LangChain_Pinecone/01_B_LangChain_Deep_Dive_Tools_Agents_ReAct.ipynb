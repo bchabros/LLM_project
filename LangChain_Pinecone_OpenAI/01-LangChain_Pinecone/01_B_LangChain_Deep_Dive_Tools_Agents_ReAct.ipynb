{
 "cells": [
  {
   "attachments": {},
   "cell_type": "markdown",
   "id": "8e1476ee-4cac-4c75-939e-c6872292a6cc",
   "metadata": {},
   "source": [
    "# Deep Dive into LangChain\n",
    "## Tools and Agents + ReAct\n",
    "\n",
    "This notebook uses the latest versions of the OpenAI and LangChain libraries."
   ]
  },
  {
   "cell_type": "code",
   "execution_count": 1,
   "id": "9be3a596-ef5d-4c31-a77b-cec6edd8b007",
   "metadata": {},
   "outputs": [
    {
     "data": {
      "text/plain": [
       "True"
      ]
     },
     "execution_count": 1,
     "metadata": {},
     "output_type": "execute_result"
    }
   ],
   "source": [
    "# authenticating to OpenAI\n",
    "import os\n",
    "from dotenv import load_dotenv, find_dotenv\n",
    "\n",
    "# loading the API Keys from .env\n",
    "load_dotenv(find_dotenv(), override=True)"
   ]
  },
  {
   "cell_type": "code",
   "execution_count": 2,
   "id": "e052148c-1dd2-4cd2-8878-fd90e58dabfe",
   "metadata": {},
   "outputs": [
    {
     "data": {
      "text/plain": [
       "True"
      ]
     },
     "execution_count": 2,
     "metadata": {},
     "output_type": "execute_result"
    }
   ],
   "source": [
    "import os\n",
    "from dotenv import load_dotenv, find_dotenv\n",
    "\n",
    "# loading the API Keys from .env\n",
    "load_dotenv(find_dotenv(), override=True)\n",
    "\n",
    "# os.environ.get('OPENAI_API_KEY')"
   ]
  },
  {
   "cell_type": "code",
   "execution_count": 3,
   "id": "a2eb526e-4105-4301-b931-f285f258035b",
   "metadata": {
    "scrolled": true
   },
   "outputs": [
    {
     "name": "stdout",
     "output_type": "stream",
     "text": [
      "Quantum mechanics is the branch of physics that describes the behavior of particles at the smallest scales, where traditional laws of physics no longer apply and phenomena such as superposition and entanglement occur.\n"
     ]
    }
   ],
   "source": [
    "from langchain_openai import ChatOpenAI\n",
    "\n",
    "llm = ChatOpenAI()  \n",
    "\n",
    "# invoking the llm (running the prompt)\n",
    "output = llm.invoke('Explain quantum mechanics in one sentence.', model='gpt-3.5-turbo', temperature=0.1)\n",
    "print(output.content)"
   ]
  },
  {
   "cell_type": "code",
   "execution_count": 4,
   "id": "54b5b306-6905-4c58-82ef-17cc9be9777d",
   "metadata": {
    "scrolled": true
   },
   "outputs": [],
   "source": [
    "# help(ChatOpenAI)  # see the llm constructor arguments with its defaults"
   ]
  },
  {
   "cell_type": "code",
   "execution_count": 5,
   "id": "da2baa8e-8440-4c16-a1bb-91f8ff0ac556",
   "metadata": {},
   "outputs": [
    {
     "name": "stdout",
     "output_type": "stream",
     "text": [
      "Quantenmechanik ist die physikalische Theorie, die das Verhalten von Teilchen auf atomarer und subatomarer Ebene beschreibt, indem sie auf Wahrscheinlichkeitsverteilungen und quantenmechanische Zustände zurückgreift.\n"
     ]
    }
   ],
   "source": [
    "# using Chat Completions API Messages: System, Assistant and Human\n",
    "\n",
    "from langchain.schema import(\n",
    "    SystemMessage, \n",
    "    AIMessage,\n",
    "    HumanMessage\n",
    ")\n",
    "messages = [\n",
    "    SystemMessage(content='You are a physicist and respond only in German.'),\n",
    "    HumanMessage(content='Explain quantum mechanics in one sentence.')\n",
    "]\n",
    "\n",
    "output = llm.invoke(messages)\n",
    "print(output.content)"
   ]
  },
  {
   "cell_type": "code",
   "execution_count": 6,
   "id": "20232db3-97a5-498e-805f-fbcb24d14584",
   "metadata": {},
   "outputs": [
    {
     "name": "stdout",
     "output_type": "stream",
     "text": [
      "CPU times: user 12.7 ms, sys: 2.57 ms, total: 15.2 ms\n",
      "Wall time: 930 ms\n"
     ]
    },
    {
     "data": {
      "text/plain": [
       "AIMessage(content='Why did the cookie go to the doctor? Because it was feeling crumbly!', response_metadata={'token_usage': {'completion_tokens': 17, 'prompt_tokens': 18, 'total_tokens': 35}, 'model_name': 'gpt-3.5-turbo', 'system_fingerprint': None, 'finish_reason': 'stop', 'logprobs': None}, id='run-36571e13-dbe1-484b-bd76-97a71ae069d4-0', usage_metadata={'input_tokens': 18, 'output_tokens': 17, 'total_tokens': 35})"
      ]
     },
     "execution_count": 6,
     "metadata": {},
     "output_type": "execute_result"
    }
   ],
   "source": [
    "%%time\n",
    "prompt = 'Tell a me a joke that a toddler can understand.'\n",
    "llm.invoke(prompt)"
   ]
  },
  {
   "cell_type": "code",
   "execution_count": 7,
   "id": "18d58e8e-c8b3-4719-b4ad-a3d03bfb7655",
   "metadata": {},
   "outputs": [
    {
     "name": "stdout",
     "output_type": "stream",
     "text": [
      "CPU times: user 11.6 ms, sys: 2.23 ms, total: 13.8 ms\n",
      "Wall time: 1.09 s\n"
     ]
    },
    {
     "data": {
      "text/plain": [
       "AIMessage(content=\"Why couldn't the bicycle stand up by itself?\\n\\nBecause it was two tired!\", response_metadata={'token_usage': {'completion_tokens': 16, 'prompt_tokens': 18, 'total_tokens': 34}, 'model_name': 'gpt-3.5-turbo', 'system_fingerprint': None, 'finish_reason': 'stop', 'logprobs': None}, id='run-a404b9a8-feb8-4294-b269-78f978d0eb9d-0', usage_metadata={'input_tokens': 18, 'output_tokens': 16, 'total_tokens': 34})"
      ]
     },
     "execution_count": 7,
     "metadata": {},
     "output_type": "execute_result"
    }
   ],
   "source": [
    "%%time\n",
    "llm.invoke(prompt)"
   ]
  },
  {
   "attachments": {},
   "cell_type": "markdown",
   "id": "4efadfd9-1658-4fab-880e-87874e8e7691",
   "metadata": {},
   "source": [
    "## LangChain Agents in Action: Python REPL"
   ]
  },
  {
   "cell_type": "code",
   "execution_count": 8,
   "id": "6c9b9413-9d79-47e4-8464-40cb3756700e",
   "metadata": {},
   "outputs": [
    {
     "name": "stderr",
     "output_type": "stream",
     "text": [
      "Python REPL can execute arbitrary code. Use with caution.\n"
     ]
    },
    {
     "data": {
      "text/plain": [
       "'[13, 26, 39, 52, 65, 78, 91]\\n'"
      ]
     },
     "execution_count": 8,
     "metadata": {},
     "output_type": "execute_result"
    }
   ],
   "source": [
    "from langchain_experimental.utilities import PythonREPL\n",
    "python_repl = PythonREPL()\n",
    "python_repl.run('print([n for n in range(1, 100) if n % 13 == 0])')"
   ]
  },
  {
   "cell_type": "code",
   "execution_count": 9,
   "id": "9973644c-65a3-44ac-ac9e-1be39950acdd",
   "metadata": {},
   "outputs": [
    {
     "name": "stdout",
     "output_type": "stream",
     "text": [
      "\n",
      "\n",
      "\u001b[1m> Entering new AgentExecutor chain...\u001b[0m\n",
      "\u001b[32;1m\u001b[1;3mFirst, I need to calculate the factorial of 12. Then, I will find the square root of that result. Finally, I will format the output to display it with 4 decimal points.\n",
      "Action: Python_REPL\n",
      "Action Input: import math\n",
      "print(f\"{math.sqrt(math.factorial(12)):.4f}\")\u001b[0m\n",
      "Observation: \u001b[36;1m\u001b[1;3m21886.1052\n",
      "\u001b[0m\n",
      "Thought:\u001b[32;1m\u001b[1;3mI now know the final answer\n",
      "Final Answer: 21886.1052\u001b[0m\n",
      "\n",
      "\u001b[1m> Finished chain.\u001b[0m\n"
     ]
    },
    {
     "data": {
      "text/plain": [
       "{'input': 'Calculate the square root of the factorial of 12 and display it with 4 decimal points',\n",
       " 'output': '21886.1052'}"
      ]
     },
     "execution_count": 9,
     "metadata": {},
     "output_type": "execute_result"
    }
   ],
   "source": [
    "from langchain_experimental.agents.agent_toolkits import create_python_agent\n",
    "from langchain_experimental.tools.python.tool import PythonREPLTool\n",
    "from langchain_openai import ChatOpenAI\n",
    "\n",
    "# Initialize the ChatOpenAI model with gpt-4-turbo and a temperature of 0\n",
    "llm = ChatOpenAI(model='gpt-4-turbo-preview', temperature=0)\n",
    "\n",
    "# Create a Python agent using the ChatOpenAI model and a PythonREPLTool\n",
    "agent_executor = create_python_agent(\n",
    "    llm=llm,\n",
    "    tool=PythonREPLTool(),\n",
    "    verbose=True\n",
    ")\n",
    "\n",
    "# Invoke the agent\n",
    "prompt = 'Calculate the square root of the factorial of 12 and display it with 4 decimal points'\n",
    "agent_executor.invoke(prompt)"
   ]
  },
  {
   "cell_type": "code",
   "execution_count": 10,
   "id": "8a1046e3-42dd-41a1-be25-8f48454f92f6",
   "metadata": {},
   "outputs": [
    {
     "name": "stdout",
     "output_type": "stream",
     "text": [
      "\n",
      "\n",
      "\u001b[1m> Entering new AgentExecutor chain...\u001b[0m\n",
      "\u001b[32;1m\u001b[1;3mI will calculate the power of 5.1 raised to 7.3 using Python.\n",
      "Action: Python_REPL\n",
      "Action Input: print(5.1 ** 7.3)\u001b[0m\n",
      "Observation: \u001b[36;1m\u001b[1;3m146306.05007233328\n",
      "\u001b[0m\n",
      "Thought:\u001b[32;1m\u001b[1;3mI now know the final answer\n",
      "Final Answer: 146306.05007233328\u001b[0m\n",
      "\n",
      "\u001b[1m> Finished chain.\u001b[0m\n"
     ]
    }
   ],
   "source": [
    "response = agent_executor.invoke('What is the answer to 5.1 ** 7.3?')"
   ]
  },
  {
   "cell_type": "code",
   "execution_count": 11,
   "id": "af92f7d0-06c4-475e-9deb-8ab0352050ab",
   "metadata": {},
   "outputs": [
    {
     "data": {
      "text/plain": [
       "{'input': 'What is the answer to 5.1 ** 7.3?', 'output': '146306.05007233328'}"
      ]
     },
     "execution_count": 11,
     "metadata": {},
     "output_type": "execute_result"
    }
   ],
   "source": [
    "response"
   ]
  },
  {
   "cell_type": "code",
   "execution_count": 12,
   "id": "e936c363-5720-443b-b4f9-29d0b5263536",
   "metadata": {},
   "outputs": [
    {
     "name": "stdout",
     "output_type": "stream",
     "text": [
      "What is the answer to 5.1 ** 7.3?\n"
     ]
    }
   ],
   "source": [
    "print(response['input'])"
   ]
  },
  {
   "cell_type": "code",
   "execution_count": 13,
   "id": "1accfc09-b6c0-4c0a-8cc6-54590d081f86",
   "metadata": {},
   "outputs": [
    {
     "name": "stdout",
     "output_type": "stream",
     "text": [
      "146306.05007233328\n"
     ]
    }
   ],
   "source": [
    "print(response['output'])\n"
   ]
  },
  {
   "attachments": {},
   "cell_type": "markdown",
   "id": "a24ef1a3-a314-4d59-b1e6-0b4f7331a770",
   "metadata": {},
   "source": [
    "## LangChain Tools: DuckDuckGo and Wikipedia"
   ]
  },
  {
   "attachments": {},
   "cell_type": "markdown",
   "id": "8d9cf90e-7f16-4cb2-a519-67a1d7908a18",
   "metadata": {},
   "source": [
    "### DuckDuckGo Search"
   ]
  },
  {
   "cell_type": "code",
   "execution_count": 1,
   "id": "eba291fd-222c-4a30-935d-cb92197da15f",
   "metadata": {},
   "outputs": [],
   "source": [
    "# optional, filter workings (recommended in production)\n",
    "import warnings\n",
    "warnings.filterwarnings('ignore', module='langchain')"
   ]
  },
  {
   "cell_type": "code",
   "execution_count": 2,
   "id": "3c142f84-2021-4587-8543-eda559757651",
   "metadata": {},
   "outputs": [
    {
     "name": "stdout",
     "output_type": "stream",
     "text": [
      "Freddie Mercury (born September 5, 1946, Stone Town, Zanzibar [now in Tanzania]—died November 24, 1991, Kensington, London, England) was a British rock singer and songwriter whose flamboyant showmanship and powerfully agile vocals, most famously for the band Queen, made him one of rock's most dynamic front men.. Bulsara was born to Parsi parents who had emigrated from India to Zanzibar ... Freddie Mercury was born Farrokh Bulsara in Stone Town, in the British protectorate of Zanzibar (now part of Tanzania), on September 5, 1946. His first big challenge was to come to terms with ... But there are many lesser-known Freddie Mercury facts that reveal hidden depths to the life and work of the man born Farrokh Bulsara in Zanzibar, on September 5, 1946. Freddie Mercury was Britain's first Indian rock star. This fact and the nature of his sexuality were the two areas of his short life about which he would be intentionally obscure. Although he was born on the East African island of Zanzibar on September 5, 1946, his parents were both Indian; they were Parsees from Gujarat. Freddie Mercury was born Farrokh Bulsara in Stone Town in the British protectorate of Zanzibar on 5th September 1946. Here's Freddie as a baby. His parents, Bomi (1908-2003) and Jer Bulsara (1922-2016) were from western India. Freddie Mercury's childhood.\n"
     ]
    }
   ],
   "source": [
    "from langchain.tools import DuckDuckGoSearchRun\n",
    "\n",
    "search = DuckDuckGoSearchRun()\n",
    "output = search.invoke('Where was Freddie Mercury born?')\n",
    "print(output)"
   ]
  },
  {
   "cell_type": "code",
   "execution_count": 3,
   "id": "5c80709e-f44c-4e2a-8f99-85c23923010f",
   "metadata": {},
   "outputs": [
    {
     "data": {
      "text/plain": [
       "'duckduckgo_search'"
      ]
     },
     "execution_count": 3,
     "metadata": {},
     "output_type": "execute_result"
    }
   ],
   "source": [
    "search.name"
   ]
  },
  {
   "cell_type": "code",
   "execution_count": 4,
   "id": "6a0639cb-be45-47f1-8120-7b31386285b3",
   "metadata": {},
   "outputs": [
    {
     "data": {
      "text/plain": [
       "'A wrapper around DuckDuckGo Search. Useful for when you need to answer questions about current events. Input should be a search query.'"
      ]
     },
     "execution_count": 4,
     "metadata": {},
     "output_type": "execute_result"
    }
   ],
   "source": [
    "search.description"
   ]
  },
  {
   "cell_type": "code",
   "execution_count": 5,
   "id": "bf6f14bb-8918-47cb-ac48-7bcc8e7e37bf",
   "metadata": {},
   "outputs": [
    {
     "name": "stdout",
     "output_type": "stream",
     "text": [
      "[snippet: Freddie Mercury (born September 5, 1946, Stone Town, Zanzibar [now in Tanzania]—died November 24, 1991, Kensington, London, England) was a British rock singer and songwriter whose flamboyant showmanship and powerfully agile vocals, most famously for the band Queen, made him one of rock's most dynamic front men.. Bulsara was born to Parsi parents who had emigrated from India to Zanzibar ..., title: Freddie Mercury | Biography, Parents, Songs, & Facts, link: https://www.britannica.com/biography/Freddie-Mercury], [snippet: Freddie Mercury always talked about his pride at writing \"Killer Queen,\" which appeared on Queen's 1974 album Sheer Heart Attack. He said it was written in one night and was a song that he ..., title: Best Freddie Mercury Songs: 20 Essential Solo And Queen Tracks, link: https://www.udiscovermusic.com/stories/best-freddie-mercury-songs/], [snippet: If you're going to be the greatest live band in the world, having one of the greatest frontmen in rock and roll history certainly helps! Here, Freddie Mercu..., title: Queen The Greatest Live: Freddie Mercury - Part 1 (Episode 34), link: https://www.youtube.com/watch?v=wSw8-XlCcwI], [snippet: On this day 50 years ago, the band Queen released its first album and introduced the world to the singular voice of Freddie Mercury. (Note: Story first aired on Morning Edition on Aug. 30, 2010.), title: A half a century ago, the world first heard the voice of Freddie Mercury, link: https://www.npr.org/2023/07/13/1187435368/a-half-a-century-ago-the-world-first-heard-the-voice-of-freddie-mercury]\n"
     ]
    }
   ],
   "source": [
    "from langchain.tools import DuckDuckGoSearchResults\n",
    "search = DuckDuckGoSearchResults()\n",
    "output = search.run('Freddie Mercury and Queen.')\n",
    "print(output)"
   ]
  },
  {
   "cell_type": "code",
   "execution_count": 6,
   "id": "6d948b3e-fa32-4d9f-a784-79ed5096b982",
   "metadata": {},
   "outputs": [],
   "source": [
    "from langchain_community.utilities import DuckDuckGoSearchAPIWrapper\n",
    "\n",
    "wrapper = DuckDuckGoSearchAPIWrapper(region='de-de', max_results=3, safesearch='moderate')\n",
    "search = DuckDuckGoSearchResults(api_wrapper=wrapper, source='news')\n",
    "output = search.run('Berlin')"
   ]
  },
  {
   "cell_type": "code",
   "execution_count": 7,
   "id": "8210284b-129c-470c-9f66-7d3bc49a150b",
   "metadata": {},
   "outputs": [
    {
     "name": "stdout",
     "output_type": "stream",
     "text": [
      "[snippet: Berlin [bɛr'li:n] ist die Hauptstadt und ein Land der Bundesrepublik Deutschland. Die Großstadt ist mit rund 3,8 Millionen Einwohnern die bevölkerungsreichste und mit 892 Quadratkilometern die flächengrößte Gemeinde Deutschlands sowie die bevölkerungsreichste Stadt der Europäischen Union., title: Berlin - Wikipedia, link: https://de.wikipedia.org/wiki/Berlin], [snippet: 31. Mai bis 02. Juni 2024: Das Berlin-Programm für das Wochenende in der Hauptstadt., title: Wochenend-Tipps: Endlich Wochenende in Berlin! - Berlin.de, link: https://www.berlin.de/wochenend-tipps/], [snippet: Berlin in 7 Tagen - Die besten Berlin Sehenswürdigkeiten, Tipps, Highlights, Geheimtipps und Empfehlungen zu Hotels und Restaurants., title: Berlin Sehenswürdigkeiten: Die 41 schönsten Orte | in 3 - 7 Tagen, link: https://wetraveltheworld.de/berlin-sehenswuerdigkeiten/], [snippet: Discover Berlin's culture, history, nightlife and nature with this guide to the top attractions. From Museum Island to the Berlin Wall, from clubs to parks, find out what makes the German capital so vibrant and diverse., title: 14 of the best things to do in Berlin - Lonely Planet, link: https://www.lonelyplanet.com/articles/best-things-to-do-in-berlin]\n"
     ]
    }
   ],
   "source": [
    "print(output)"
   ]
  },
  {
   "cell_type": "code",
   "execution_count": 8,
   "id": "1f61e99c-89de-49e7-b6a1-14e1b4adc812",
   "metadata": {},
   "outputs": [
    {
     "name": "stdout",
     "output_type": "stream",
     "text": [
      "Snippet: Berlin [bɛr'li:n] ist die Hauptstadt und ein Land der Bundesrepublik Deutschland. Die Großstadt ist mit rund 3,8 Millionen Einwohnern die bevölkerungsreichste und mit 892 Quadratkilometern die flächengrößte Gemeinde Deutschlands sowie die bevölkerungsreichste Stadt der Europäischen Union.\n",
      "Title: Berlin - Wikipedia\n",
      "Link: https://de.wikipedia.org/wiki/Berlin\n",
      "\n",
      "--------------------------------------------------\n",
      "Snippet: 31. Mai bis 02. Juni 2024: Das Berlin-Programm für das Wochenende in der Hauptstadt.\n",
      "Title: Wochenend-Tipps: Endlich Wochenende in Berlin! - Berlin.de\n",
      "Link: https://www.berlin.de/wochenend-tipps/\n",
      "\n",
      "--------------------------------------------------\n",
      "Snippet: Berlin in 7 Tagen - Die besten Berlin Sehenswürdigkeiten, Tipps, Highlights, Geheimtipps und Empfehlungen zu Hotels und Restaurants.\n",
      "Title: Berlin Sehenswürdigkeiten: Die 41 schönsten Orte | in 3 - 7 Tagen\n",
      "Link: https://wetraveltheworld.de/berlin-sehenswuerdigkeiten/\n",
      "\n",
      "--------------------------------------------------\n"
     ]
    }
   ],
   "source": [
    "import re\n",
    "pattern = r'snippet: (.*?), title: (.*?), link: (.*?)\\],'\n",
    "matches = re.findall(pattern, output, re.DOTALL)\n",
    "\n",
    "for snippet, title, link in matches:\n",
    "    print(f'Snippet: {snippet}\\nTitle: {title}\\nLink: {link}\\n')\n",
    "    print('-' * 50)"
   ]
  },
  {
   "attachments": {},
   "cell_type": "markdown",
   "id": "bd138c08-412c-4e6c-bf22-012475581af5",
   "metadata": {},
   "source": [
    "### Wikipedia"
   ]
  },
  {
   "cell_type": "code",
   "execution_count": 9,
   "id": "800e2709-b8dd-4a25-9de5-71d65a6bf0cf",
   "metadata": {},
   "outputs": [],
   "source": [
    "from langchain_community.tools import WikipediaQueryRun\n",
    "from langchain_community.utilities import WikipediaAPIWrapper"
   ]
  },
  {
   "cell_type": "code",
   "execution_count": 10,
   "id": "e96bfab1-0d92-4992-8354-c1dd96178fbd",
   "metadata": {},
   "outputs": [
    {
     "data": {
      "text/plain": [
       "'Page: NebulaGraph\\nSummary: NebulaGraph is an open-source distributed graph database built for super large-scale graphs with milliseconds of latency. NebulaGraph adopts the Apache 2.0 license and  also  comes with a wide range of data visualization tools.\\n\\n'"
      ]
     },
     "execution_count": 10,
     "metadata": {},
     "output_type": "execute_result"
    }
   ],
   "source": [
    "api_wrapper = WikipediaAPIWrapper(top_k_results=1, doc_content_chars_max=10000)\n",
    "wiki = WikipediaQueryRun(api_wrapper=api_wrapper)\n",
    "wiki.invoke({'query': 'llamaindex'})"
   ]
  },
  {
   "cell_type": "code",
   "execution_count": 11,
   "id": "d405d32f-0e6a-446b-91ef-a21d05df2623",
   "metadata": {},
   "outputs": [],
   "source": [
    "output = wiki.invoke('Google Gemini')"
   ]
  },
  {
   "cell_type": "code",
   "execution_count": 12,
   "id": "f847a0f6-9206-410e-8fdd-825ddfa2f952",
   "metadata": {},
   "outputs": [
    {
     "name": "stdout",
     "output_type": "stream",
     "text": [
      "Page: Gemini (chatbot)\n",
      "Summary: Gemini, formerly known as Bard, is a generative artificial intelligence chatbot developed by Google. Based on the large language model (LLM) of the same name and developed as a direct response to the meteoric rise of OpenAI's ChatGPT, it was launched in a limited capacity in March 2023 before expanding to other countries in May. It was previously based on PaLM, and initially the LaMDA family of large language models.\n",
      "LaMDA had been developed and announced in 2021, but it was not released to the public out of an abundance of caution. OpenAI's launch of ChatGPT in November 2022 and its subsequent popularity caught Google executives off-guard and sent them into a panic, prompting a sweeping response in the ensuing months. After mobilizing its workforce, the company launched Bard in February 2023, which took center stage during the 2023 Google I/O keynote in May and was upgraded to the Gemini LLM in December. Bard and Duet AI were unified under the Gemini brand in February 2024, coinciding with the launch of an Android app.\n",
      "Gemini has received lukewarm responses. It became the center of controversy in February 2024, when social media users reported that it was generating historically inaccurate images of historical figures as people of color, with conservative commentators decrying its alleged bias as \"wokeness\".\n"
     ]
    }
   ],
   "source": [
    "print(output)"
   ]
  },
  {
   "attachments": {},
   "cell_type": "markdown",
   "id": "f4c7c635-4a44-49a3-b871-f35d7b0edc8a",
   "metadata": {},
   "source": [
    "## Creating a ReAct Agent"
   ]
  },
  {
   "cell_type": "code",
   "execution_count": 13,
   "id": "d6aee3c4-9ed1-4f93-9f66-b0462be98efb",
   "metadata": {},
   "outputs": [
    {
     "data": {
      "text/plain": [
       "True"
      ]
     },
     "execution_count": 13,
     "metadata": {},
     "output_type": "execute_result"
    }
   ],
   "source": [
    "from dotenv import load_dotenv, find_dotenv\n",
    "load_dotenv(find_dotenv(), override=True) "
   ]
  },
  {
   "cell_type": "code",
   "execution_count": 14,
   "id": "710b21a4-c3d0-473d-9dda-47220cb51d6c",
   "metadata": {},
   "outputs": [],
   "source": [
    "from langchain.prompts import PromptTemplate\n",
    "from langchain import hub\n",
    "from langchain.agents import Tool, AgentExecutor, initialize_agent, create_react_agent\n",
    "from langchain.tools import DuckDuckGoSearchRun, WikipediaQueryRun\n",
    "from langchain.utilities import WikipediaAPIWrapper\n",
    "from langchain_experimental.tools.python.tool import PythonREPLTool\n",
    "from langchain_openai import ChatOpenAI\n",
    "\n",
    "# Initialize the ChatOpenAI model (gpt-4-turbo-preview) with a temperature of 0. Utilize gpt-3.5-turbo if you use the free plan\n",
    "llm = ChatOpenAI(model_name='gpt-4-turbo-preview', temperature=0)\n",
    "\n",
    "# Define a template for answering questions\n",
    "template = '''\n",
    "Answer the following questions in GERMAN as best you can.\n",
    "Questions: {q}\n",
    "'''\n",
    "\n",
    "# Create a PromptTemplate object from the template\n",
    "prompt_template = PromptTemplate.from_template(template)\n",
    "\n",
    "# Pull the react prompt from the hub\n",
    "prompt = hub.pull('hwchase17/react')\n",
    "\n",
    "# displaying information about the react prompt\n",
    "# print(type(prompt))\n",
    "# print(prompt.input_variables)\n",
    "# print(prompt.template)\n",
    "\n",
    "\n",
    "# Create tools for the agent\n",
    "\n",
    "# 1. Python REPL Tool (for executing Python code)\n",
    "python_repl = PythonREPLTool()\n",
    "python_repl_tool = Tool(\n",
    "    name='Python REPL',\n",
    "    func=python_repl.run,\n",
    "    description='Useful when you need to use Python to answer a question. You should input Python code.'\n",
    ")\n",
    "\n",
    "# 2. Wikipedia Tool (for searching Wikipedia)\n",
    "api_wrapper = WikipediaAPIWrapper()\n",
    "wikipedia = WikipediaQueryRun(api_wrapper=api_wrapper)\n",
    "wikipedia_tool = Tool(\n",
    "    name='Wikipedia',\n",
    "    func=wikipedia.run,\n",
    "    description='Useful for when you need to look up a topic, country, or person on Wikipedia.'\n",
    ")\n",
    "\n",
    "# 3. DuckDuckGo Search Tool (for general web searches)\n",
    "search = DuckDuckGoSearchRun()\n",
    "duckduckgo_tool = Tool(\n",
    "    name='DuckDuckGo Search',\n",
    "    func=search.run,\n",
    "    description='Useful for when you need to perform an internet search to find information that another tool can\\'t provide.'\n",
    ")\n",
    "\n",
    "# Combine the tools into a list\n",
    "tools = [python_repl_tool, wikipedia_tool, duckduckgo_tool]\n",
    "\n",
    "# Create a react agent with the ChatOpenAI model, tools, and prompt\n",
    "agent = create_react_agent(llm, tools, prompt)\n",
    "\n",
    "# Initialize the AgentExecutor\n",
    "agent_executor = AgentExecutor(\n",
    "    agent=agent,\n",
    "    tools=tools,\n",
    "    verbose=True,\n",
    "    handle_parsing_errors=True,\n",
    "    max_iterations=10\n",
    ")\n"
   ]
  },
  {
   "cell_type": "code",
   "execution_count": 15,
   "id": "e289704d-d423-42c8-9cb3-7f88372989f2",
   "metadata": {},
   "outputs": [
    {
     "name": "stdout",
     "output_type": "stream",
     "text": [
      "\n",
      "\n",
      "\u001b[1m> Entering new AgentExecutor chain...\u001b[0m\n",
      "\u001b[32;1m\u001b[1;3mTo answer this question in German, I will first find information about Napoleon Bonaparte's early life and then translate it into German.\n",
      "\n",
      "Action: Wikipedia\n",
      "Action Input: Napoleon Bonaparte\u001b[0m\u001b[33;1m\u001b[1;3mPage: Napoleon\n",
      "Summary: Napoleon Bonaparte (born Napoleone di Buonaparte; 15 August 1769 – 5 May 1821), later known by his regnal name Napoleon I, was a French emperor and military commander who rose to prominence during the French Revolution and led successful campaigns during the Revolutionary Wars. He was the leader of the French Republic as First Consul from 1799 to 1804, then of the French Empire as Emperor of the French from 1804 until 1814, and briefly again in 1815. His political and cultural legacy endures as a celebrated and controversial leader. He is considered one of the greatest military commanders in history and his wars and campaigns are still studied at military schools worldwide. However, historians still debate the degree to which he was responsible for the Napoleonic Wars, in which between three and six million people died. Napoleon brought modernizing reforms to France and Western Europe, and the upheavals of the period stimulated the development of nation states. He also sold the Louisiana Territory to the United States in 1803, doubling the latter's size. However, his mixed record on civil rights and exploitation of conquered territories adversely affect his reputation.\n",
      "Napoleon was born on the island of Corsica. He was resentful of the French monarchy, and supported the French Revolution in 1789 while serving in the French army, trying to spread its ideals to his native Corsica. He rose rapidly in the ranks after saving the governing French Directory by firing on royalist insurgents. In 1796, he began a military campaign against the Austrians and their Italian allies, scoring decisive victories, and became a national hero. Two years later he led a military expedition to Egypt that served as a springboard to political power. He engineered a coup in November 1799 and became First Consul of the Republic. In 1804, to consolidate and expand his power, he crowned himself Emperor of the French.\n",
      "Differences with the United Kingdom meant France faced the War of the Third Coalition by 1805. Napoleon shattered this coalition with victories in the Ulm campaign and at the Battle of Austerlitz, which led to the dissolution of the Holy Roman Empire. During the War of the Fourth Coalition, Napoleon defeated Prussia at the battles of Jena and Auerstedt, marched the Grande Armée into Eastern Europe, and defeated the Russians in June 1807 at Friedland. Two years later, the Austrians challenged the French again during the War of the Fifth Coalition, but Napoleon solidified his grip over Europe after triumphing at the Battle of Wagram. Hoping to extend the Continental System, his embargo against Britain, Napoleon invaded the Iberian Peninsula and declared his brother Joseph the King of Spain in 1808. The Spanish and the Portuguese revolted in the Peninsular War aided by a British army, culminating in defeat for Napoleon's marshals. Napoleon launched an invasion of Russia in the summer of 1812. The resulting campaign witnessed the catastrophic retreat of Napoleon's Grande Armée. In 1813, Prussia and Austria joined Russian forces in a Sixth Coalition against France, resulting in a large coalition army defeating Napoleon at the Battle of Leipzig. The coalition invaded France and captured Paris, forcing Napoleon to abdicate in April 1814. He was exiled to the island of Elba, between Corsica and Italy. In France, the Bourbons were restored to power.\n",
      "Napoleon escaped in February 1815 and took control of France. The Allies responded by forming a Seventh Coalition, which defeated Napoleon at the Battle of Waterloo in June 1815. The British exiled him to the remote island of Saint Helena in the Atlantic, where he died in 1821 at the age of 51.\n",
      "\n",
      "Page: Napoleon III\n",
      "Summary: Napoleon III (Charles-Louis Napoléon Bonaparte; 20 April 1808 – 9 January 1873) was the first president of France from 1848 to 1852, and the last monarch of France as Emperor of the French from 1852 until he was deposed on 4 September 1870.\n",
      "Prior to his reign, Napo\u001b[0m\u001b[32;1m\u001b[1;3mThe Wikipedia summary provides a comprehensive overview of Napoleon Bonaparte's early life, including his birth in Corsica, his support for the French Revolution, his rapid rise through the military ranks, and his eventual crowning as Emperor of the French. I will now translate the relevant early life information into German.\n",
      "\n",
      "Final Answer: Napoleon Bonaparte wurde am 15. August 1769 auf der Insel Korsika geboren. Er unterstützte die Französische Revolution von 1789, während er in der französischen Armee diente, und versuchte, deren Ideale in seine Heimat Korsika zu tragen. Durch seine schnellen Erfolge in den militärischen Rängen, insbesondere nachdem er das regierende französische Direktorium durch das Feuern auf royalistische Aufständische gerettet hatte, stieg er rasch auf. Im Jahr 1796 begann er eine militärische Kampagne gegen die Österreicher und ihre italienischen Verbündeten, erzielte entscheidende Siege und wurde ein nationaler Held. Zwei Jahre später führte er eine militärische Expedition nach Ägypten durch, die als Sprungbrett zur politischen Macht diente. Er inszenierte einen Staatsstreich im November 1799 und wurde Erster Konsul der Republik. Im Jahr 1804, um seine Macht zu konsolidieren und zu erweitern, krönte er sich selbst zum Kaiser der Franzosen.\u001b[0m\n",
      "\n",
      "\u001b[1m> Finished chain.\u001b[0m\n"
     ]
    }
   ],
   "source": [
    "# question = 'Generate the first 20 numbers in the Fibonacci series.'\n",
    "# question = 'Who is the current prime minister of the UK?'\n",
    "question = 'Tell me about Napoleon Bonaparte early life'\n",
    "output = agent_executor.invoke({\n",
    "    'input': prompt_template.format(q=question)\n",
    "})\n"
   ]
  },
  {
   "cell_type": "code",
   "execution_count": 16,
   "id": "648ef7cb-dd09-44f6-b20e-8605e2f1744e",
   "metadata": {},
   "outputs": [
    {
     "name": "stdout",
     "output_type": "stream",
     "text": [
      "\n",
      "Answer the following questions in GERMAN as best you can.\n",
      "Questions: Tell me about Napoleon Bonaparte early life\n",
      "\n"
     ]
    }
   ],
   "source": [
    "print(output['input'])"
   ]
  },
  {
   "cell_type": "code",
   "execution_count": 17,
   "id": "71ffe931-64fe-4034-a0d6-dd7a92cc5f11",
   "metadata": {},
   "outputs": [
    {
     "data": {
      "text/plain": [
       "'Napoleon Bonaparte wurde am 15. August 1769 auf der Insel Korsika geboren. Er unterstützte die Französische Revolution von 1789, während er in der französischen Armee diente, und versuchte, deren Ideale in seine Heimat Korsika zu tragen. Durch seine schnellen Erfolge in den militärischen Rängen, insbesondere nachdem er das regierende französische Direktorium durch das Feuern auf royalistische Aufständische gerettet hatte, stieg er rasch auf. Im Jahr 1796 begann er eine militärische Kampagne gegen die Österreicher und ihre italienischen Verbündeten, erzielte entscheidende Siege und wurde ein nationaler Held. Zwei Jahre später führte er eine militärische Expedition nach Ägypten durch, die als Sprungbrett zur politischen Macht diente. Er inszenierte einen Staatsstreich im November 1799 und wurde Erster Konsul der Republik. Im Jahr 1804, um seine Macht zu konsolidieren und zu erweitern, krönte er sich selbst zum Kaiser der Franzosen.'"
      ]
     },
     "execution_count": 17,
     "metadata": {},
     "output_type": "execute_result"
    }
   ],
   "source": [
    "output['output']"
   ]
  },
  {
   "cell_type": "code",
   "execution_count": null,
   "id": "56204797-a234-4827-862a-6fa456288703",
   "metadata": {},
   "outputs": [],
   "source": []
  }
 ],
 "metadata": {
  "kernelspec": {
   "display_name": "Python 3 (ipykernel)",
   "language": "python",
   "name": "python3"
  },
  "language_info": {
   "codemirror_mode": {
    "name": "ipython",
    "version": 3
   },
   "file_extension": ".py",
   "mimetype": "text/x-python",
   "name": "python",
   "nbconvert_exporter": "python",
   "pygments_lexer": "ipython3",
   "version": "3.11.9"
  },
  "widgets": {
   "application/vnd.jupyter.widget-state+json": {
    "state": {},
    "version_major": 2,
    "version_minor": 0
   }
  }
 },
 "nbformat": 4,
 "nbformat_minor": 5
}
