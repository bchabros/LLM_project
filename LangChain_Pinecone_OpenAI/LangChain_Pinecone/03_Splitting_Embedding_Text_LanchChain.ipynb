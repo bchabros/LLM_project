{
 "cells": [
  {
   "cell_type": "markdown",
   "id": "63e90228-71a8-4072-aaba-eebeb636f873",
   "metadata": {},
   "source": [
    "# Splitting and Embedding Text Using LangChain\n",
    "https://python.langchain.com/docs/modules/data_connection/document_loaders/"
   ]
  },
  {
   "cell_type": "code",
   "execution_count": 1,
   "id": "101758dc-9837-47b2-b5fa-3b79b2d2bffa",
   "metadata": {},
   "outputs": [
    {
     "data": {
      "text/plain": [
       "True"
      ]
     },
     "execution_count": 1,
     "metadata": {},
     "output_type": "execute_result"
    }
   ],
   "source": [
    "import os\n",
    "from dotenv import load_dotenv, find_dotenv\n",
    "load_dotenv(find_dotenv(), override=True)"
   ]
  },
  {
   "cell_type": "code",
   "execution_count": 2,
   "id": "c20563b5-bc8f-42a3-8359-3904856f0d9f",
   "metadata": {},
   "outputs": [],
   "source": [
    "from langchain.text_splitter import RecursiveCharacterTextSplitter"
   ]
  },
  {
   "cell_type": "code",
   "execution_count": 8,
   "id": "008349f1-ac81-4f0c-8f3e-64ffb51eaf43",
   "metadata": {},
   "outputs": [],
   "source": [
    "with open ('/Users/Chabi/Documents/LLM_project/Data/churchill_speech.txt') as f:\n",
    "    churchil_speech = f.read()"
   ]
  },
  {
   "cell_type": "code",
   "execution_count": 3,
   "id": "45f6d8b0-231c-4864-80ac-7cc7aeb6109c",
   "metadata": {},
   "outputs": [],
   "source": [
    "text_splitter = RecursiveCharacterTextSplitter(chunk_size=100,\n",
    "                                               chunk_overlap=20,\n",
    "                                               length_function=len)"
   ]
  },
  {
   "cell_type": "code",
   "execution_count": 9,
   "id": "d3e4646b-7c29-4859-815f-5ac50920946b",
   "metadata": {},
   "outputs": [],
   "source": [
    "chunks = text_splitter.create_documents([churchil_speech])"
   ]
  },
  {
   "cell_type": "code",
   "execution_count": 13,
   "id": "03c3c318-3c41-4b21-99a0-3f4412fde4d0",
   "metadata": {},
   "outputs": [
    {
     "name": "stdout",
     "output_type": "stream",
     "text": [
      "page_content='From the moment that the French defenses at Sedan and on the Meuse were broken at the end of the'\n"
     ]
    }
   ],
   "source": [
    "print(chunks[2])"
   ]
  },
  {
   "cell_type": "code",
   "execution_count": 15,
   "id": "b8d5d2d3-3bde-47a9-b8a5-c72efef74f3f",
   "metadata": {},
   "outputs": [
    {
     "name": "stdout",
     "output_type": "stream",
     "text": [
      "From the moment that the French defenses at Sedan and on the Meuse were broken at the end of the\n"
     ]
    }
   ],
   "source": [
    "print(chunks[2].page_content)"
   ]
  },
  {
   "cell_type": "code",
   "execution_count": 16,
   "id": "58efc2a7-ac22-4fa9-93a9-7a60a59c779b",
   "metadata": {},
   "outputs": [
    {
     "name": "stdout",
     "output_type": "stream",
     "text": [
      "Chunks: 300\n"
     ]
    }
   ],
   "source": [
    "print(f'Chunks: {len(chunks)}')"
   ]
  },
  {
   "cell_type": "markdown",
   "id": "8d7715b8-b19a-4a6d-a782-0eb2fb29696b",
   "metadata": {},
   "source": [
    "### Embedding Cost"
   ]
  },
  {
   "cell_type": "code",
   "execution_count": 19,
   "id": "4314f01d-f689-451d-bd33-e28146c641dd",
   "metadata": {},
   "outputs": [],
   "source": [
    "def print_embedding_cost(texts):\n",
    "    import tiktoken\n",
    "    enc = tiktoken.encoding_for_model('text-embedding-ada-002')\n",
    "    total_tokens = sum([len(enc.encode(page.page_content)) for page in texts])\n",
    "    print(f'Total tokens: {total_tokens}')\n",
    "    print(f'Embedding Cost in USD: {total_tokens / 1000 * 0.0004 :.6f}')"
   ]
  },
  {
   "cell_type": "code",
   "execution_count": 20,
   "id": "a8a49bad-4d6a-4e90-bbc2-87a58bf8833e",
   "metadata": {},
   "outputs": [
    {
     "name": "stdout",
     "output_type": "stream",
     "text": [
      "Total tokens: 4820\n",
      "Embedding Cost in USD: 0.001928\n"
     ]
    }
   ],
   "source": [
    "print_embedding_cost(chunks)"
   ]
  },
  {
   "cell_type": "code",
   "execution_count": 33,
   "id": "fda03e50-a5b7-4768-9cba-27ee8ebb1b94",
   "metadata": {},
   "outputs": [],
   "source": [
    "from langchain.embeddings import OpenAIEmbeddings\n",
    "embeddings = OpenAIEmbeddings()"
   ]
  },
  {
   "cell_type": "code",
   "execution_count": 34,
   "id": "602be542-a6c1-4f20-8be1-81b5449c6460",
   "metadata": {},
   "outputs": [
    {
     "data": {
      "text/plain": [
       "1536"
      ]
     },
     "execution_count": 34,
     "metadata": {},
     "output_type": "execute_result"
    }
   ],
   "source": [
    "vector = embeddings.embed_query('abc')\n",
    "len(vector)"
   ]
  },
  {
   "cell_type": "markdown",
   "id": "96ab86c3-412b-4aec-85f0-54faedc80cb9",
   "metadata": {},
   "source": [
    "# Inserting the Embedding into Pinecone Index"
   ]
  },
  {
   "cell_type": "code",
   "execution_count": 26,
   "id": "468bc61a-021f-463c-80b9-3c6e3da71fdf",
   "metadata": {},
   "outputs": [],
   "source": [
    "import pinecone\n",
    "from langchain.vectorstores import Pinecone"
   ]
  },
  {
   "cell_type": "code",
   "execution_count": 27,
   "id": "5ba933a5-32af-4f2b-916c-2f713bbb2377",
   "metadata": {},
   "outputs": [],
   "source": [
    "pinecone.init(api_key=os.environ.get('PINECONE_API_KEY'),\n",
    "              environment=os.environ.get('PINECONE_ENV'))"
   ]
  },
  {
   "cell_type": "code",
   "execution_count": 31,
   "id": "785ca9db-1007-4980-8362-f53409abfac8",
   "metadata": {},
   "outputs": [
    {
     "name": "stdout",
     "output_type": "stream",
     "text": [
      "Deleting all indexes ...Done\n"
     ]
    }
   ],
   "source": [
    "# free version only one index \n",
    "# deleting all indexes\n",
    "indexes = pinecone.list_indexes()\n",
    "for i in indexes:\n",
    "    print('Deleting all indexes ...', end='')\n",
    "    pinecone.delete_index(i)\n",
    "    print('Done')"
   ]
  },
  {
   "cell_type": "code",
   "execution_count": 32,
   "id": "c37fbfad-2d60-4453-9aee-8d13a6c18ca3",
   "metadata": {},
   "outputs": [
    {
     "name": "stdout",
     "output_type": "stream",
     "text": [
      "Creating index churchill-speech ...\n",
      "Done!\n"
     ]
    }
   ],
   "source": [
    "index_name = 'churchill-speech'\n",
    "if index_name not in pinecone.list_indexes():\n",
    "    print(f'Creating index {index_name} ...')\n",
    "    pinecone.create_index(index_name, \n",
    "                          dimension=1536, \n",
    "                          metric='cosine')\n",
    "    print('Done!')"
   ]
  },
  {
   "cell_type": "code",
   "execution_count": 37,
   "id": "6361030c-2c59-42f8-814f-798d79222243",
   "metadata": {},
   "outputs": [],
   "source": [
    "vector_store = Pinecone.from_documents(chunks,\n",
    "                                       embeddings,\n",
    "                                       index_name=index_name)"
   ]
  },
  {
   "cell_type": "markdown",
   "id": "03d1b4e5-05d6-4c72-b8d2-24d4fb6eb601",
   "metadata": {},
   "source": [
    "# Ask Question (Similarity Search)"
   ]
  },
  {
   "cell_type": "code",
   "execution_count": 38,
   "id": "3c8bffd6-3e96-4fc9-93b0-8739d9b28421",
   "metadata": {},
   "outputs": [
    {
     "name": "stdout",
     "output_type": "stream",
     "text": [
      "[Document(page_content='shall fight on the beaches, we shall fight on the landing grounds, we shall fight in the fields and'), Document(page_content='front, now on that, fighting'), Document(page_content='end, we shall fight in France, we shall fight on the seas and oceans, we shall fight with growing'), Document(page_content='Winston Churchill Speech - We Shall Fight on the Beaches\\nWe Shall Fight on the Beaches\\nJune 4, 1940')]\n"
     ]
    }
   ],
   "source": [
    "query = 'Where should we fight?'\n",
    "result = vector_store.similarity_search(query)\n",
    "print(result)"
   ]
  },
  {
   "cell_type": "code",
   "execution_count": 39,
   "id": "f44e5592-7c92-40d0-857a-9d2811a5e65d",
   "metadata": {},
   "outputs": [
    {
     "name": "stdout",
     "output_type": "stream",
     "text": [
      "shall fight on the beaches, we shall fight on the landing grounds, we shall fight in the fields and\n",
      "--------------------------------------------------\n",
      "front, now on that, fighting\n",
      "--------------------------------------------------\n",
      "end, we shall fight in France, we shall fight on the seas and oceans, we shall fight with growing\n",
      "--------------------------------------------------\n",
      "Winston Churchill Speech - We Shall Fight on the Beaches\n",
      "We Shall Fight on the Beaches\n",
      "June 4, 1940\n",
      "--------------------------------------------------\n"
     ]
    }
   ],
   "source": [
    "for r in result:\n",
    "    print(r.page_content)\n",
    "    print('-' * 50)"
   ]
  },
  {
   "cell_type": "code",
   "execution_count": 41,
   "id": "90c92e28-0961-4b0c-9b56-8bd3cd96a78f",
   "metadata": {},
   "outputs": [],
   "source": [
    "from langchain.chains import RetrievalQA\n",
    "from langchain.chat_models import ChatOpenAI"
   ]
  },
  {
   "cell_type": "code",
   "execution_count": 45,
   "id": "1aa20a16-ffbf-4c14-89f6-bcb17d0f0cb2",
   "metadata": {},
   "outputs": [],
   "source": [
    "llm = ChatOpenAI(model='gpt-3.5-turbo',\n",
    "                 temperature=1)\n",
    "\n",
    "retriever = vector_store.as_retriever(search_type='similarity',\n",
    "                                      search_kwargs={'k': 3})\n",
    "\n",
    "chain = RetrievalQA.from_chain_type(llm=llm,\n",
    "                                    chain_type='stuff',\n",
    "                                    retriever=retriever)"
   ]
  },
  {
   "cell_type": "code",
   "execution_count": 46,
   "id": "ab788a9b-8904-4145-a9dd-b59bb1305d06",
   "metadata": {},
   "outputs": [
    {
     "name": "stdout",
     "output_type": "stream",
     "text": [
      "We should fight on the beaches, on the landing grounds, in the fields, in France, on the seas and oceans, and anywhere necessary to secure victory.\n"
     ]
    }
   ],
   "source": [
    "query = 'Where should we fight?'\n",
    "answer = chain.run(query)\n",
    "print(answer)"
   ]
  },
  {
   "cell_type": "code",
   "execution_count": 47,
   "id": "0d2028e8-7304-4913-8f21-54f7086d4b4c",
   "metadata": {},
   "outputs": [
    {
     "name": "stdout",
     "output_type": "stream",
     "text": [
      "The king of Belgium at that time was King Leopold.\n"
     ]
    }
   ],
   "source": [
    "query = 'Who was the king of Belgium at that time?'\n",
    "answer = chain.run(query)\n",
    "print(answer)"
   ]
  },
  {
   "cell_type": "code",
   "execution_count": 48,
   "id": "9beb60c1-efdf-45b9-a97e-d30d6d3dbbf2",
   "metadata": {},
   "outputs": [
    {
     "name": "stdout",
     "output_type": "stream",
     "text": [
      "The French Armies were involved in the fighting against the British armies. They were responsible for holding the area in question and had planned to advance across the Somme with a strong force to secure it.\n"
     ]
    }
   ],
   "source": [
    "query = 'What about the French Armies?'\n",
    "answer = chain.run(query)\n",
    "print(answer)"
   ]
  },
  {
   "cell_type": "code",
   "execution_count": null,
   "id": "4a2d2466-b66b-4782-b9bd-8258a7665e2c",
   "metadata": {},
   "outputs": [],
   "source": []
  }
 ],
 "metadata": {
  "kernelspec": {
   "display_name": "LLM_kernel",
   "language": "python",
   "name": "llm"
  },
  "language_info": {
   "codemirror_mode": {
    "name": "ipython",
    "version": 3
   },
   "file_extension": ".py",
   "mimetype": "text/x-python",
   "name": "python",
   "nbconvert_exporter": "python",
   "pygments_lexer": "ipython3",
   "version": "3.9.18"
  }
 },
 "nbformat": 4,
 "nbformat_minor": 5
}
