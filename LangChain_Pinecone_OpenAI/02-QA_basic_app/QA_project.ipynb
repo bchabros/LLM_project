{
 "cells": [
  {
   "attachments": {},
   "cell_type": "markdown",
   "metadata": {},
   "source": [
    "# Custom ChatGPT APP with LangChain"
   ]
  },
  {
   "attachments": {},
   "cell_type": "markdown",
   "metadata": {},
   "source": [
    "## Basic prompt conversation"
   ]
  },
  {
   "cell_type": "code",
   "execution_count": 1,
   "metadata": {},
   "outputs": [],
   "source": [
    "!cd '/Users/Chabi/Documents/LLM_project/LangChain_Pinecone_OpenAI/'"
   ]
  },
  {
   "cell_type": "code",
   "execution_count": 2,
   "metadata": {},
   "outputs": [
    {
     "data": {
      "text/plain": [
       "True"
      ]
     },
     "execution_count": 2,
     "metadata": {},
     "output_type": "execute_result"
    }
   ],
   "source": [
    "from dotenv import load_dotenv, find_dotenv\n",
    "load_dotenv(find_dotenv(), override = True)\n"
   ]
  },
  {
   "cell_type": "code",
   "execution_count": 3,
   "metadata": {},
   "outputs": [],
   "source": [
    "from langchain.chat_models import ChatOpenAI\n",
    "from langchain.schema import SystemMessage\n",
    "from langchain.chains import LLMChain\n",
    "from langchain.prompts import ChatPromptTemplate, HumanMessagePromptTemplate"
   ]
  },
  {
   "cell_type": "code",
   "execution_count": 5,
   "metadata": {},
   "outputs": [
    {
     "name": "stdin",
     "output_type": "stream",
     "text": [
      "Your prompt:  bye\n"
     ]
    },
    {
     "name": "stdout",
     "output_type": "stream",
     "text": [
      "Goodbye!\n"
     ]
    }
   ],
   "source": [
    "llm = ChatOpenAI(model_name='gpt-3.5-turbo',\n",
    "                 temperature=1)\n",
    "prompt = ChatPromptTemplate(input_variables=['content'],\n",
    "                            messages=[SystemMessage(content='You are chatbot having a conversation with a human.'),\n",
    "                                      HumanMessagePromptTemplate.from_template('{content}')])\n",
    "\n",
    "chain = LLMChain(llm=llm,\n",
    "                 prompt=prompt,\n",
    "                 verbose=False)\n",
    "\n",
    "while True:\n",
    "    content = input('Your prompt: ')\n",
    "    if content in ['quit', 'exit', 'bye']:\n",
    "        print('Goodbye!')\n",
    "        break\n",
    "\n",
    "    response = chain.run({'content': content})\n",
    "    print(response)\n",
    "    print('-' * 50)"
   ]
  },
  {
   "attachments": {},
   "cell_type": "markdown",
   "metadata": {},
   "source": [
    "### Chat with memory"
   ]
  },
  {
   "cell_type": "code",
   "execution_count": 6,
   "metadata": {},
   "outputs": [],
   "source": [
    "from langchain.memory import ConversationBufferMemory\n",
    "from langchain.prompts import MessagesPlaceholder"
   ]
  },
  {
   "cell_type": "code",
   "execution_count": 7,
   "metadata": {},
   "outputs": [
    {
     "name": "stdin",
     "output_type": "stream",
     "text": [
      "Your prompt:  Tell something about Moon\n"
     ]
    },
    {
     "name": "stdout",
     "output_type": "stream",
     "text": [
      "\n",
      "\n",
      "\u001b[1m> Entering new LLMChain chain...\u001b[0m\n",
      "Prompt after formatting:\n",
      "\u001b[32;1m\u001b[1;3mSystem: You are chatbot having a conversation with a human.\n",
      "Human: Tell something about Moon\u001b[0m\n",
      "\n",
      "\u001b[1m> Finished chain.\u001b[0m\n",
      "The Moon is Earth's only natural satellite, and it is the fifth-largest moon in the solar system. It is approximately 1/6th the size of Earth, with a diameter of about 3,474 kilometers (2,159 miles). The Moon has a rocky surface covered in dusty gray material called regolith, which is composed of crushed rocks and minerals.\n",
      "\n",
      "One interesting fact about the Moon is that it takes about 27.3 days to orbit Earth, which is the same amount of time it takes to complete one rotation on its axis. As a result, we always see the same side of the Moon from Earth, a phenomenon known as tidal locking.\n",
      "\n",
      "The Moon plays a significant role in Earth's tides due to its gravitational pull. It also affects other natural phenomena, such as the growth of plants, animal behavior, and even some human emotions.\n",
      "\n",
      "Over the years, the Moon has been extensively explored by both robotic missions and human astronauts. The Apollo missions, launched by NASA in the late 1960s and early 1970s, successfully landed 12 astronauts on the Moon's surface.\n",
      "\n",
      "The Moon continues to captivate and inspire people with its beauty, and it holds great scientific interest for future space exploration and potential lunar colonies.\n",
      "--------------------------------------------------\n"
     ]
    },
    {
     "name": "stdin",
     "output_type": "stream",
     "text": [
      "Your prompt:  It is the biggest planet?\n"
     ]
    },
    {
     "name": "stdout",
     "output_type": "stream",
     "text": [
      "\n",
      "\n",
      "\u001b[1m> Entering new LLMChain chain...\u001b[0m\n",
      "Prompt after formatting:\n",
      "\u001b[32;1m\u001b[1;3mSystem: You are chatbot having a conversation with a human.\n",
      "Human: Tell something about Moon\n",
      "AI: The Moon is Earth's only natural satellite, and it is the fifth-largest moon in the solar system. It is approximately 1/6th the size of Earth, with a diameter of about 3,474 kilometers (2,159 miles). The Moon has a rocky surface covered in dusty gray material called regolith, which is composed of crushed rocks and minerals.\n",
      "\n",
      "One interesting fact about the Moon is that it takes about 27.3 days to orbit Earth, which is the same amount of time it takes to complete one rotation on its axis. As a result, we always see the same side of the Moon from Earth, a phenomenon known as tidal locking.\n",
      "\n",
      "The Moon plays a significant role in Earth's tides due to its gravitational pull. It also affects other natural phenomena, such as the growth of plants, animal behavior, and even some human emotions.\n",
      "\n",
      "Over the years, the Moon has been extensively explored by both robotic missions and human astronauts. The Apollo missions, launched by NASA in the late 1960s and early 1970s, successfully landed 12 astronauts on the Moon's surface.\n",
      "\n",
      "The Moon continues to captivate and inspire people with its beauty, and it holds great scientific interest for future space exploration and potential lunar colonies.\n",
      "Human: It is the biggest planet?\u001b[0m\n",
      "\n",
      "\u001b[1m> Finished chain.\u001b[0m\n",
      "No, the Moon is not a planet, but a natural satellite. The largest planet in our solar system is Jupiter. Jupiter is a gas giant with a diameter of about 143,000 kilometers (88,846 miles), which is more than 11 times the diameter of Earth. It is known for its many moons, such as Ganymede, which is bigger than the Moon. The Moon is relatively small compared to planets like Jupiter, Saturn, Uranus, and Neptune.\n",
      "--------------------------------------------------\n"
     ]
    },
    {
     "name": "stdin",
     "output_type": "stream",
     "text": [
      "Your prompt:  bye\n"
     ]
    },
    {
     "name": "stdout",
     "output_type": "stream",
     "text": [
      "Goodbye!\n"
     ]
    }
   ],
   "source": [
    "llm = ChatOpenAI(model_name='gpt-3.5-turbo',\n",
    "                 temperature=1)\n",
    "\n",
    "memory = ConversationBufferMemory(memory_key='chat_history',\n",
    "                                  return_messages=True)\n",
    "\n",
    "prompt = ChatPromptTemplate(input_variables=['content'],\n",
    "                            messages=[SystemMessage(content='You are chatbot having a conversation with a human.'),\n",
    "                                      MessagesPlaceholder(variable_name='chat_history'), # where memory will be sorted\n",
    "                                      HumanMessagePromptTemplate.from_template('{content}')])\n",
    "\n",
    "chain = LLMChain(llm=llm,\n",
    "                 prompt=prompt,\n",
    "                 memory=memory,\n",
    "                 verbose=True)\n",
    "\n",
    "while True:\n",
    "    content = input('Your prompt: ')\n",
    "    if content in ['quit', 'exit', 'bye']:\n",
    "        print('Goodbye!')\n",
    "        break\n",
    "\n",
    "    response = chain.run({'content': content})\n",
    "    print(response)\n",
    "    print('-' * 50)"
   ]
  },
  {
   "cell_type": "markdown",
   "metadata": {},
   "source": [
    "## Saving chat session"
   ]
  },
  {
   "cell_type": "code",
   "execution_count": 9,
   "metadata": {},
   "outputs": [],
   "source": [
    "from langchain.memory import FileChatMessageHistory"
   ]
  },
  {
   "cell_type": "code",
   "execution_count": 12,
   "metadata": {},
   "outputs": [
    {
     "name": "stdin",
     "output_type": "stream",
     "text": [
      "Your prompt:  How long dos it take to travel from Sun to Earth?\n"
     ]
    },
    {
     "name": "stdout",
     "output_type": "stream",
     "text": [
      "\n",
      "\n",
      "\u001b[1m> Entering new LLMChain chain...\u001b[0m\n",
      "Prompt after formatting:\n",
      "\u001b[32;1m\u001b[1;3mSystem: You are chatbot having a conversation with a human.\n",
      "Human: light speed in vacuum\n",
      "AI: The speed of light in a vacuum is approximately 299,792,458 meters per second (or about 186,282 miles per second). It's the ultimate speed limit in the universe, according to the theory of relativity.\n",
      "Human: what about the light speed in water?\n",
      "AI: The speed of light in a medium, such as water, is slower than its speed in a vacuum. In water, the speed of light is approximately 225,000 kilometers per second (or about 140,000 miles per second). The exact speed of light in any medium is determined by its refractive index, which is a measure of how much the medium slows down the speed of light compared to a vacuum.\n",
      "Human: How long dos it take to travel from Sun to Earth?\u001b[0m\n",
      "\n",
      "\u001b[1m> Finished chain.\u001b[0m\n",
      "The distance between the Sun and the Earth, on average, is about 149.6 million kilometers (93 million miles). If we consider the speed of light in a vacuum, which is approximately 299,792 kilometers per second, we can calculate the time it takes for light to travel from the Sun to the Earth.\n",
      "\n",
      "Using the formula: time = distance / speed\n",
      "\n",
      "Time = 149.6 million kilometers / 299,792 kilometers per second\n",
      "Time ≈ 499.0 seconds\n",
      "\n",
      "Therefore, it takes around 499 seconds, or about 8 minutes and 19 seconds, for light to travel from the Sun to the Earth.\n",
      "--------------------------------------------------\n"
     ]
    },
    {
     "name": "stdin",
     "output_type": "stream",
     "text": [
      "Your prompt:  what did I ask you?\n"
     ]
    },
    {
     "name": "stdout",
     "output_type": "stream",
     "text": [
      "\n",
      "\n",
      "\u001b[1m> Entering new LLMChain chain...\u001b[0m\n",
      "Prompt after formatting:\n",
      "\u001b[32;1m\u001b[1;3mSystem: You are chatbot having a conversation with a human.\n",
      "Human: light speed in vacuum\n",
      "AI: The speed of light in a vacuum is approximately 299,792,458 meters per second (or about 186,282 miles per second). It's the ultimate speed limit in the universe, according to the theory of relativity.\n",
      "Human: what about the light speed in water?\n",
      "AI: The speed of light in a medium, such as water, is slower than its speed in a vacuum. In water, the speed of light is approximately 225,000 kilometers per second (or about 140,000 miles per second). The exact speed of light in any medium is determined by its refractive index, which is a measure of how much the medium slows down the speed of light compared to a vacuum.\n",
      "Human: How long dos it take to travel from Sun to Earth?\n",
      "AI: The distance between the Sun and the Earth, on average, is about 149.6 million kilometers (93 million miles). If we consider the speed of light in a vacuum, which is approximately 299,792 kilometers per second, we can calculate the time it takes for light to travel from the Sun to the Earth.\n",
      "\n",
      "Using the formula: time = distance / speed\n",
      "\n",
      "Time = 149.6 million kilometers / 299,792 kilometers per second\n",
      "Time ≈ 499.0 seconds\n",
      "\n",
      "Therefore, it takes around 499 seconds, or about 8 minutes and 19 seconds, for light to travel from the Sun to the Earth.\n",
      "Human: what did I ask you?\u001b[0m\n",
      "\n",
      "\u001b[1m> Finished chain.\u001b[0m\n",
      "You asked how long it takes to travel from the Sun to the Earth.\n",
      "--------------------------------------------------\n"
     ]
    },
    {
     "name": "stdin",
     "output_type": "stream",
     "text": [
      "Your prompt:  Tell all questions I have asked.\n"
     ]
    },
    {
     "name": "stdout",
     "output_type": "stream",
     "text": [
      "\n",
      "\n",
      "\u001b[1m> Entering new LLMChain chain...\u001b[0m\n",
      "Prompt after formatting:\n",
      "\u001b[32;1m\u001b[1;3mSystem: You are chatbot having a conversation with a human.\n",
      "Human: light speed in vacuum\n",
      "AI: The speed of light in a vacuum is approximately 299,792,458 meters per second (or about 186,282 miles per second). It's the ultimate speed limit in the universe, according to the theory of relativity.\n",
      "Human: what about the light speed in water?\n",
      "AI: The speed of light in a medium, such as water, is slower than its speed in a vacuum. In water, the speed of light is approximately 225,000 kilometers per second (or about 140,000 miles per second). The exact speed of light in any medium is determined by its refractive index, which is a measure of how much the medium slows down the speed of light compared to a vacuum.\n",
      "Human: How long dos it take to travel from Sun to Earth?\n",
      "AI: The distance between the Sun and the Earth, on average, is about 149.6 million kilometers (93 million miles). If we consider the speed of light in a vacuum, which is approximately 299,792 kilometers per second, we can calculate the time it takes for light to travel from the Sun to the Earth.\n",
      "\n",
      "Using the formula: time = distance / speed\n",
      "\n",
      "Time = 149.6 million kilometers / 299,792 kilometers per second\n",
      "Time ≈ 499.0 seconds\n",
      "\n",
      "Therefore, it takes around 499 seconds, or about 8 minutes and 19 seconds, for light to travel from the Sun to the Earth.\n",
      "Human: what did I ask you?\n",
      "AI: You asked how long it takes to travel from the Sun to the Earth.\n",
      "Human: Tell all questions I have asked.\u001b[0m\n",
      "\n",
      "\u001b[1m> Finished chain.\u001b[0m\n",
      "Certainly! Here are the questions you have asked so far:\n",
      "\n",
      "1. \"Light speed in vacuum?\"\n",
      "2. \"What about the light speed in water?\"\n",
      "3. \"How long does it take to travel from the Sun to Earth?\"\n",
      "4. \"What did I ask you?\"\n",
      "\n",
      "Is there anything else you would like to know or discuss?\n",
      "--------------------------------------------------\n"
     ]
    },
    {
     "name": "stdin",
     "output_type": "stream",
     "text": [
      "Your prompt:  quit\n"
     ]
    },
    {
     "name": "stdout",
     "output_type": "stream",
     "text": [
      "Goodbye!\n"
     ]
    }
   ],
   "source": [
    "llm = ChatOpenAI(model_name='gpt-3.5-turbo',\n",
    "                 temperature=1)\n",
    "\n",
    "history = FileChatMessageHistory('chat_history.json')\n",
    "\n",
    "memory = ConversationBufferMemory(memory_key='chat_history',\n",
    "                                  chat_memory=history,\n",
    "                                  return_messages=True)\n",
    "\n",
    "prompt = ChatPromptTemplate(input_variables=['content'],\n",
    "                            messages=[SystemMessage(content='You are chatbot having a conversation with a human.'),\n",
    "                                      MessagesPlaceholder(variable_name='chat_history'), # where memory will be sorted\n",
    "                                      HumanMessagePromptTemplate.from_template('{content}')])\n",
    "\n",
    "chain = LLMChain(llm=llm,\n",
    "                 prompt=prompt,\n",
    "                 memory=memory,\n",
    "                 verbose=True)\n",
    "\n",
    "while True:\n",
    "    content = input('Your prompt: ')\n",
    "    if content in ['quit', 'exit', 'bye']:\n",
    "        print('Goodbye!')\n",
    "        break\n",
    "\n",
    "    response = chain.run({'content': content})\n",
    "    print(response)\n",
    "    print('-' * 50)"
   ]
  },
  {
   "cell_type": "markdown",
   "metadata": {},
   "source": [
    "https://python.langchain.com/docs/integrations/memory/sql_chat_message_history"
   ]
  },
  {
   "cell_type": "code",
   "execution_count": null,
   "metadata": {},
   "outputs": [],
   "source": []
  }
 ],
 "metadata": {
  "kernelspec": {
   "display_name": "LLM_kernel",
   "language": "python",
   "name": "llm"
  },
  "language_info": {
   "codemirror_mode": {
    "name": "ipython",
    "version": 3
   },
   "file_extension": ".py",
   "mimetype": "text/x-python",
   "name": "python",
   "nbconvert_exporter": "python",
   "pygments_lexer": "ipython3",
   "version": "3.9.18"
  }
 },
 "nbformat": 4,
 "nbformat_minor": 4
}
