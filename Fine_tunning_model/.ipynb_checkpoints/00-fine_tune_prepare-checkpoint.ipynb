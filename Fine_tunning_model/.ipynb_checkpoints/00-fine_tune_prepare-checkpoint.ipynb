{
 "cells": [
  {
   "cell_type": "code",
   "execution_count": 1,
   "metadata": {},
   "outputs": [
    {
     "name": "stdout",
     "output_type": "stream",
     "text": [
      "1.6.1\n"
     ]
    }
   ],
   "source": [
    "import openai\n",
    "print(openai.__version__)"
   ]
  },
  {
   "cell_type": "code",
   "execution_count": 2,
   "metadata": {},
   "outputs": [],
   "source": [
    "from openai import OpenAI"
   ]
  },
  {
   "cell_type": "code",
   "execution_count": 3,
   "metadata": {},
   "outputs": [],
   "source": [
    "#help(OpenAI)"
   ]
  },
  {
   "cell_type": "code",
   "execution_count": 4,
   "metadata": {},
   "outputs": [],
   "source": [
    "# classic way according documentation\n",
    "# client = OpenAI(api_key='')"
   ]
  },
  {
   "cell_type": "code",
   "execution_count": 5,
   "metadata": {},
   "outputs": [],
   "source": [
    "# env variable\n",
    "import os"
   ]
  },
  {
   "cell_type": "code",
   "execution_count": 6,
   "metadata": {},
   "outputs": [],
   "source": [
    "client = OpenAI()"
   ]
  },
  {
   "cell_type": "code",
   "execution_count": 7,
   "metadata": {},
   "outputs": [],
   "source": [
    "completion = client.chat.completions.create(\n",
    "  model=\"gpt-3.5-turbo\",\n",
    "  messages=[\n",
    "    {\"role\": \"system\", \n",
    "     \"content\": \"You are a helpful assistant.\"},\n",
    "    {\"role\": \"user\",\n",
    "     \"content\": \"Tell me about the US!\"}\n",
    "  ]\n",
    ")"
   ]
  },
  {
   "cell_type": "code",
   "execution_count": 14,
   "metadata": {},
   "outputs": [
    {
     "name": "stdout",
     "output_type": "stream",
     "text": [
      "The United States, often abbreviated as the US, is a country located in North America. It is composed of 50 states, a federal district (Washington, D.C.), five major self-governing territories, and various possessions. The US is the fourth largest country in the world by land area and the third most populous.\n",
      "\n",
      "The country has a diverse population with different ethnic, cultural, and religious backgrounds. English is the most widely spoken language, although Spanish is also widely spoken, especially in certain regions.\n",
      "\n",
      "The US has a strong economy, which is the largest in the world by nominal GDP and second-largest by purchasing power parity. It is a highly developed country with a high standard of living and widespread access to advanced infrastructure, healthcare, and education.\n",
      "\n",
      "The US is a federal republic with a system of government divided between the federal government and individual state governments. The government operates on a system of checks and balances among three branches: the executive branch (headed by the President), the legislative branch (consisting of the Congress), and the judicial branch (led by the Supreme Court).\n",
      "\n",
      "The country is known for its historical impact, technological advancements, cultural influence, and military power. It is also a popular destination for tourism, attracting visitors to iconic landmarks such as the Statue of Liberty, the Grand Canyon, the Golden Gate Bridge, and many others.\n",
      "\n",
      "The US has played a significant role in international affairs, and it is a member of various organizations, including the United Nations, NATO, the G7, and the World Trade Organization.\n",
      "\n",
      "Overall, the United States is a nation with a rich history, diverse population, strong economy, and global influence.\n"
     ]
    }
   ],
   "source": [
    "print(completion.choices[0].message.content)"
   ]
  },
  {
   "cell_type": "code",
   "execution_count": null,
   "metadata": {},
   "outputs": [],
   "source": []
  }
 ],
 "metadata": {
  "kernelspec": {
   "display_name": "fine_tune",
   "language": "python",
   "name": "fine_tune"
  },
  "language_info": {
   "codemirror_mode": {
    "name": "ipython",
    "version": 3
   },
   "file_extension": ".py",
   "mimetype": "text/x-python",
   "name": "python",
   "nbconvert_exporter": "python",
   "pygments_lexer": "ipython3",
   "version": "3.9.18"
  },
  "orig_nbformat": 4
 },
 "nbformat": 4,
 "nbformat_minor": 2
}
