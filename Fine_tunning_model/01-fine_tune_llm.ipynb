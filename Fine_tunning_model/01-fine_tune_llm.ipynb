{
 "cells": [
  {
   "attachments": {},
   "cell_type": "markdown",
   "metadata": {},
   "source": [
    "# LLM Fine Tune"
   ]
  },
  {
   "cell_type": "code",
   "execution_count": 142,
   "metadata": {},
   "outputs": [],
   "source": [
    "import numpy as np\n",
    "import pandas as pd\n",
    "import tiktoken\n",
    "import json\n",
    "import matplotlib.pyplot as plt\n",
    "\n",
    "import os\n",
    "\n",
    "import openai\n",
    "from openai import OpenAI"
   ]
  },
  {
   "cell_type": "code",
   "execution_count": 7,
   "metadata": {},
   "outputs": [
    {
     "data": {
      "text/html": [
       "<div>\n",
       "<style scoped>\n",
       "    .dataframe tbody tr th:only-of-type {\n",
       "        vertical-align: middle;\n",
       "    }\n",
       "\n",
       "    .dataframe tbody tr th {\n",
       "        vertical-align: top;\n",
       "    }\n",
       "\n",
       "    .dataframe thead th {\n",
       "        text-align: right;\n",
       "    }\n",
       "</style>\n",
       "<table border=\"1\" class=\"dataframe\">\n",
       "  <thead>\n",
       "    <tr style=\"text-align: right;\">\n",
       "      <th></th>\n",
       "      <th>medical_specialty</th>\n",
       "      <th>report</th>\n",
       "    </tr>\n",
       "  </thead>\n",
       "  <tbody>\n",
       "    <tr>\n",
       "      <th>0</th>\n",
       "      <td>Cardiovascular / Pulmonary</td>\n",
       "      <td>2-D M-MODE: , ,1.  Left atrial enlargement wit...</td>\n",
       "    </tr>\n",
       "    <tr>\n",
       "      <th>1</th>\n",
       "      <td>Cardiovascular / Pulmonary</td>\n",
       "      <td>1.  The left ventricular cavity size and wall ...</td>\n",
       "    </tr>\n",
       "    <tr>\n",
       "      <th>2</th>\n",
       "      <td>Cardiovascular / Pulmonary</td>\n",
       "      <td>2-D ECHOCARDIOGRAM,Multiple views of the heart...</td>\n",
       "    </tr>\n",
       "    <tr>\n",
       "      <th>3</th>\n",
       "      <td>Cardiovascular / Pulmonary</td>\n",
       "      <td>DESCRIPTION:,1.  Normal cardiac chambers size....</td>\n",
       "    </tr>\n",
       "    <tr>\n",
       "      <th>4</th>\n",
       "      <td>Cardiovascular / Pulmonary</td>\n",
       "      <td>2-D STUDY,1. Mild aortic stenosis, widely calc...</td>\n",
       "    </tr>\n",
       "  </tbody>\n",
       "</table>\n",
       "</div>"
      ],
      "text/plain": [
       "            medical_specialty  \\\n",
       "0  Cardiovascular / Pulmonary   \n",
       "1  Cardiovascular / Pulmonary   \n",
       "2  Cardiovascular / Pulmonary   \n",
       "3  Cardiovascular / Pulmonary   \n",
       "4  Cardiovascular / Pulmonary   \n",
       "\n",
       "                                              report  \n",
       "0  2-D M-MODE: , ,1.  Left atrial enlargement wit...  \n",
       "1  1.  The left ventricular cavity size and wall ...  \n",
       "2  2-D ECHOCARDIOGRAM,Multiple views of the heart...  \n",
       "3  DESCRIPTION:,1.  Normal cardiac chambers size....  \n",
       "4  2-D STUDY,1. Mild aortic stenosis, widely calc...  "
      ]
     },
     "execution_count": 7,
     "metadata": {},
     "output_type": "execute_result"
    }
   ],
   "source": [
    "medical_reports = pd.read_csv('99-Data/reports.csv')\n",
    "medical_reports.head()"
   ]
  },
  {
   "cell_type": "code",
   "execution_count": 12,
   "metadata": {},
   "outputs": [
    {
     "name": "stdout",
     "output_type": "stream",
     "text": [
      "2-D M-MODE: , ,1.  Left atrial enlargement with left atrial diameter of 4.7 cm.,2.  Normal size right and left ventricle.,3.  Normal LV systolic function with left ventricular ejection fraction of 51%.,4.  Normal LV diastolic function.,5.  No pericardial effusion.,6.  Normal morphology of aortic valve, mitral valve, tricuspid valve, and pulmonary valve.,7.  PA systolic pressure is 36 mmHg.,DOPPLER: , ,1.  Mild mitral and tricuspid regurgitation.,2.  Trace aortic and pulmonary regurgitation.\n",
      "----------------------------------------------------------------------------------------------------\n",
      "Cardiovascular / Pulmonary\n"
     ]
    }
   ],
   "source": [
    "print(medical_reports.report.iloc[0])\n",
    "print('-' * 100)\n",
    "print(medical_reports.medical_specialty.iloc[0])"
   ]
  },
  {
   "attachments": {},
   "cell_type": "markdown",
   "metadata": {},
   "source": [
    "### Data processing"
   ]
  },
  {
   "cell_type": "code",
   "execution_count": 13,
   "metadata": {},
   "outputs": [
    {
     "name": "stdout",
     "output_type": "stream",
     "text": [
      "<class 'pandas.core.frame.DataFrame'>\n",
      "RangeIndex: 2179 entries, 0 to 2178\n",
      "Data columns (total 2 columns):\n",
      " #   Column             Non-Null Count  Dtype \n",
      "---  ------             --------------  ----- \n",
      " 0   medical_specialty  2179 non-null   object\n",
      " 1   report             2179 non-null   object\n",
      "dtypes: object(2)\n",
      "memory usage: 34.2+ KB\n"
     ]
    }
   ],
   "source": [
    "medical_reports.info()"
   ]
  },
  {
   "cell_type": "code",
   "execution_count": 25,
   "metadata": {},
   "outputs": [
    {
     "data": {
      "text/html": [
       "<div>\n",
       "<style scoped>\n",
       "    .dataframe tbody tr th:only-of-type {\n",
       "        vertical-align: middle;\n",
       "    }\n",
       "\n",
       "    .dataframe tbody tr th {\n",
       "        vertical-align: top;\n",
       "    }\n",
       "\n",
       "    .dataframe thead th {\n",
       "        text-align: right;\n",
       "    }\n",
       "</style>\n",
       "<table border=\"1\" class=\"dataframe\">\n",
       "  <thead>\n",
       "    <tr style=\"text-align: right;\">\n",
       "      <th></th>\n",
       "      <th>report</th>\n",
       "    </tr>\n",
       "    <tr>\n",
       "      <th>medical_specialty</th>\n",
       "      <th></th>\n",
       "    </tr>\n",
       "  </thead>\n",
       "  <tbody>\n",
       "    <tr>\n",
       "      <th>Cardiovascular / Pulmonary</th>\n",
       "      <td>371</td>\n",
       "    </tr>\n",
       "    <tr>\n",
       "      <th>Gastroenterology</th>\n",
       "      <td>224</td>\n",
       "    </tr>\n",
       "    <tr>\n",
       "      <th>Neurology</th>\n",
       "      <td>223</td>\n",
       "    </tr>\n",
       "    <tr>\n",
       "      <th>Radiology</th>\n",
       "      <td>273</td>\n",
       "    </tr>\n",
       "    <tr>\n",
       "      <th>Surgery</th>\n",
       "      <td>1088</td>\n",
       "    </tr>\n",
       "  </tbody>\n",
       "</table>\n",
       "</div>"
      ],
      "text/plain": [
       "                            report\n",
       "medical_specialty                 \n",
       "Cardiovascular / Pulmonary     371\n",
       "Gastroenterology               224\n",
       "Neurology                      223\n",
       "Radiology                      273\n",
       "Surgery                       1088"
      ]
     },
     "execution_count": 25,
     "metadata": {},
     "output_type": "execute_result"
    }
   ],
   "source": [
    "medical_reports.groupby('medical_specialty').count()"
   ]
  },
  {
   "cell_type": "code",
   "execution_count": 15,
   "metadata": {},
   "outputs": [],
   "source": [
    "medical_reports.dropna(subset=['report'], inplace=True)"
   ]
  },
  {
   "attachments": {},
   "cell_type": "markdown",
   "metadata": {},
   "source": [
    "#### Train Valid Test \n",
    "- 110 total points --> 100 Train\n",
    "- Sampple 10 --> 5 val + 5 test"
   ]
  },
  {
   "cell_type": "code",
   "execution_count": 30,
   "metadata": {},
   "outputs": [
    {
     "data": {
      "text/plain": [
       "medical_specialty\n",
       "Cardiovascular / Pulmonary    110\n",
       "Gastroenterology              110\n",
       "Neurology                     110\n",
       "Radiology                     110\n",
       "Surgery                       110\n",
       "Name: count, dtype: int64"
      ]
     },
     "execution_count": 30,
     "metadata": {},
     "output_type": "execute_result"
    }
   ],
   "source": [
    "grouped_data = medical_reports.groupby('medical_specialty').sample(n=110, random_state=123)\n",
    "grouped_data['medical_specialty'].value_counts()"
   ]
  },
  {
   "cell_type": "code",
   "execution_count": 31,
   "metadata": {},
   "outputs": [],
   "source": [
    "val_test_data = grouped_data.groupby('medical_specialty').sample(n=10, random_state=123)\n",
    "val = val_test_data.groupby('medical_specialty').head(5)\n",
    "test = val_test_data.groupby('medical_specialty').tail(5)"
   ]
  },
  {
   "cell_type": "code",
   "execution_count": 32,
   "metadata": {},
   "outputs": [],
   "source": [
    "train = grouped_data[~grouped_data.index.isin(val_test_data.index)]"
   ]
  },
  {
   "cell_type": "code",
   "execution_count": 34,
   "metadata": {},
   "outputs": [
    {
     "name": "stdout",
     "output_type": "stream",
     "text": [
      "Train: 500\n",
      "Val: 25\n",
      "Test: 25\n"
     ]
    }
   ],
   "source": [
    "print(f'Train: {len(train)}')\n",
    "print(f'Val: {len(val)}')\n",
    "print(f'Test: {len(test)}')"
   ]
  },
  {
   "attachments": {},
   "cell_type": "markdown",
   "metadata": {},
   "source": [
    "### Data Statistics "
   ]
  },
  {
   "cell_type": "code",
   "execution_count": 37,
   "metadata": {},
   "outputs": [],
   "source": [
    "# count number of tokens\n",
    "def num_tokens_from_string(string):\n",
    "    encoding = tiktoken.get_encoding('cl100k_base')\n",
    "    num_tokens = len(encoding.encode(string))\n",
    "    return num_tokens"
   ]
  },
  {
   "attachments": {},
   "cell_type": "markdown",
   "metadata": {},
   "source": [
    "Model gpt-3.5-turbo\t\n",
    "- Training $0.0080 / 1K tokens\t\n",
    "- Input usage $0.0030 / 1K tokens\t\n",
    "- Output usage $0.0060 / 1K tokens\n"
   ]
  },
  {
   "cell_type": "code",
   "execution_count": 42,
   "metadata": {},
   "outputs": [
    {
     "data": {
      "text/plain": [
       "count     500.000000\n",
       "mean      653.726000\n",
       "std       425.851799\n",
       "min         4.000000\n",
       "25%       341.250000\n",
       "50%       591.000000\n",
       "75%       850.000000\n",
       "max      3701.000000\n",
       "Name: report, dtype: float64"
      ]
     },
     "execution_count": 42,
     "metadata": {},
     "output_type": "execute_result"
    }
   ],
   "source": [
    "report_lenghts = train['report'].apply(num_tokens_from_string)\n",
    "report_lenghts.describe()"
   ]
  },
  {
   "cell_type": "code",
   "execution_count": 43,
   "metadata": {},
   "outputs": [
    {
     "data": {
      "text/plain": [
       "326863"
      ]
     },
     "execution_count": 43,
     "metadata": {},
     "output_type": "execute_result"
    }
   ],
   "source": [
    "report_lenghts.sum()"
   ]
  },
  {
   "cell_type": "code",
   "execution_count": 52,
   "metadata": {},
   "outputs": [
    {
     "name": "stdout",
     "output_type": "stream",
     "text": [
      "For one epoch it will be: 2.61 $\n"
     ]
    }
   ],
   "source": [
    "price_per_training_epoch = report_lenghts.sum() * 0.008/1000\n",
    "print(f'For one epoch it will be: {round(price_per_training_epoch,2)} $')"
   ]
  },
  {
   "attachments": {},
   "cell_type": "markdown",
   "metadata": {},
   "source": [
    "### Data Formatting"
   ]
  },
  {
   "cell_type": "code",
   "execution_count": 58,
   "metadata": {},
   "outputs": [
    {
     "data": {
      "text/plain": [
       "array(['Cardiovascular / Pulmonary', 'Gastroenterology', 'Neurology',\n",
       "       'Radiology', 'Surgery'], dtype=object)"
      ]
     },
     "execution_count": 58,
     "metadata": {},
     "output_type": "execute_result"
    }
   ],
   "source": [
    "train['medical_specialty'].unique()"
   ]
  },
  {
   "attachments": {},
   "cell_type": "markdown",
   "metadata": {},
   "source": [
    "System prompt\n",
    "User --> report\n",
    "Assitant --> medical_specialty"
   ]
  },
  {
   "cell_type": "code",
   "execution_count": 61,
   "metadata": {},
   "outputs": [],
   "source": [
    "system_prompt = \"Given the medical description report, classify it into on of these categories: Cardiovascular / Pulmonary, Gastroenterology, Neurology, Radiology, Surgery\""
   ]
  },
  {
   "cell_type": "code",
   "execution_count": 101,
   "metadata": {},
   "outputs": [],
   "source": [
    "sample_prompt = {'messages': [{'role':'system', 'content':system_prompt},\n",
    "                              {'role':'user', 'content': train['report'].iloc[0]},\n",
    "                              {'role':'assistant', 'content': train['medical_specialty'].iloc[0]}]}"
   ]
  },
  {
   "cell_type": "code",
   "execution_count": 102,
   "metadata": {},
   "outputs": [],
   "source": [
    "def df_to_format(df):\n",
    "    formatted_data = []\n",
    "    \n",
    "    for index, row in df.iterrows():\n",
    "        entry = {'messages': [{'role':'system', 'content':system_prompt},\n",
    "                              {'role':'user', 'content': row['report']},\n",
    "                              {'role':'assistant', 'content': row['medical_specialty']}]}\n",
    "        formatted_data.append(entry)\n",
    "    return formatted_data"
   ]
  },
  {
   "cell_type": "code",
   "execution_count": 103,
   "metadata": {},
   "outputs": [],
   "source": [
    "data = df_to_format(train)\n",
    "with open('99-Data/fine_tuning_data.jsonl', 'w') as f:\n",
    "    for entry in data:\n",
    "        f.write(json.dumps(entry))\n",
    "        f.write('\\n')"
   ]
  },
  {
   "cell_type": "code",
   "execution_count": 104,
   "metadata": {},
   "outputs": [
    {
     "data": {
      "text/plain": [
       "{'messages': [{'role': 'system',\n",
       "   'content': 'Given the medical description report, classify it into on of these categories: Cardiovascular / Pulmonary, Gastroenterology, Neurology, Radiology, Surgery'},\n",
       "  {'role': 'user',\n",
       "   'content': 'REASON FOR CONSULTATION: , Mesothelioma.,HISTORY OF PRESENT ILLNESS: , The patient is a 73-year-old pleasant Caucasian male who is known to me from his previous hospitalization.  He has also been seen by me in the clinic in the last few weeks.  He was admitted on January 18, 2008, with recurrent malignant pleural effusion.  On the same day, he underwent VATS and thoracoscopic drainage of the pleural effusion with right pleural nodule biopsy, lysis of adhesions, and directed talc insufflation by Dr. X.  He was found to have 2.5L of bloody pleural effusions, some loculated pleural effusion, adhesions, and carcinomatosis in the parenchyma.  His hospital course here has been significant for dyspnea, requiring ICU stay.  He also had a chest tube, which was taken out few days ago.  He has also had paroxysmal atrial fibrillation, for which he has been on amiodarone by cardiologist.  The biopsy from the pleural nodule done on the right on January 18, 2008, shows malignant epithelioid neoplasm consistent with mesothelioma.  Immunohistochemical staining showed tumor cells positive for calretinin and focally positive for D2-40, MOC-31.  Tumor cells are negative for CDX-2, and monoclonal CEA.,The patient at this time reports that overall he has been feeling better with decrease in shortness of breath and cough over the last few days.  He does have edema in his lower extremities.  He is currently on 4L of oxygen.  He denies any nausea, vomiting, abdominal pain, recent change in bowel habit, melena, or hematochezia.  No neurological or musculoskeletal signs or symptoms.  He reports that he is able to ambulate to the bathroom, but gets short of breath on exertion.  He denies any other complaints.,PAST MEDICAL HISTORY:,  Left ventricular systolic dysfunction as per the previous echocardiogram done in December 2007, history of pneumonia in December 2007, admitted to XYZ Hospital.  History of recurrent pleural effusions, status post pleurodesis and locally advanced non-small cell lung cancer as per the biopsy that was done in XYZ Hospital.,ALLERGIES:,  No known drug allergies.,CURRENT MEDICATIONS:  ,In the hospital are amiodarone, diltiazem, enoxaparin, furosemide, methylprednisolone, pantoprazole, Zosyn, p.r.n. acetaminophen, and hydrocodone.,SOCIAL HISTORY: , The patient is married and lives with his spouse.  He has history of tobacco smoking and also reports history of alcohol abuse.  No history of illicit drug abuse.,FAMILY HISTORY:  ,Significant for history of ?cancer? in the mother and history of coronary artery disease in the father.,REVIEW OF SYSTEMS: , As stated above.  He denies any obvious asbestos exposure, as far as he can remember.,PHYSICAL EXAMINATION,GENERAL:  He is awake, alert, in no acute distress.  He is currently on 4L of oxygen by nasal cannula.,VITAL SIGNS:  Blood pressure 97/65 mmHg, respiration is 20 per minute, pulse is 72 per minute, and temperature 98.3 degrees Fahrenheit.,HEENT:  No icterus or sinus tenderness.  Oral mucosa is moist.,NECK:  Supple.  No lymphadenopathy.,LUNGS:  Clear to auscultation except few diffuse wheezing present bilaterally.,CARDIOVASCULAR:  S1 and S2 normal.,ABDOMEN:  Soft, nondistended, and nontender.  No hepatosplenomegaly.  Bowel sounds are present in all four quadrants.,EXTREMITIES:  Bilateral pedal edema is present in both the extremities.  No signs of DVT.,NEUROLOGICAL:  Grossly nonfocal.,INVESTIGATION:,  Labs done on January 28, 2008, showed BUN of 23 and creatinine of 0.9.  Liver enzymes checked on January 17, 2008, were unremarkable.  CBC done on January 26, 2008, showed WBC of 19.8, hemoglobin of 10.7, hematocrit of 30.8, and platelet count of 515,000.  Chest x-ray from yesterday shows right-sided Port-A-Cath, diffuse right lung parenchymal and pleural infiltration without change, mild pulmonary vascular congestion.,ASSESSMENT,1.  Mesothelioma versus primary lung carcinoma, two separate reports as for the two separate biopsies done several weeks apart.,2.  Chronic obstructive pulmonary disease.,3.  Paroxysmal atrial fibrillation.,4.  Malignant pleural effusion, status post surgery as stated above.,5.  Anemia of chronic disease.,RECOMMENDATIONS,1.  Compare the slides from the previous biopsy done in December at XYZ Hospital with recurrent pleural nodule biopsy slides.  I have discussed regarding this with Dr. Y in Pathology here at Methodist XYZ Hospital.  I will try to obtain the slides for comparison from XYZ Hospital for comparison and immunohistochemical staining.,2.  I will also discuss with Dr. X and also with intervention radiologist at XYZ Hospital regarding the exact sites of the two biopsies.,3.  Once the results of the above are available, I will make further recommendations regarding treatment.  The patient has significantly decreased performance status with dyspnea on exertion and is being planned for transfer to Triumph Hospital for rehab, which I agree with.,4.  Continue present care.,Discussed regarding the above in great details with the patient and his wife and daughter and answered the questions to their satisfaction.  They clearly understand the above.  They also understand his very poor performance status at this time, and the risks and benefits of delaying chemotherapy due to this.'},\n",
       "  {'role': 'assistant', 'content': 'Cardiovascular / Pulmonary'}]}"
      ]
     },
     "execution_count": 104,
     "metadata": {},
     "output_type": "execute_result"
    }
   ],
   "source": [
    "data[0]"
   ]
  },
  {
   "cell_type": "code",
   "execution_count": 105,
   "metadata": {},
   "outputs": [],
   "source": [
    "val_data = df_to_format(val)\n",
    "with open('99-Data/fine_tuning_data_val.jsonl', 'w') as f:\n",
    "    for entry in val_data:\n",
    "        f.write(json.dumps(entry))\n",
    "        f.write('\\n')"
   ]
  },
  {
   "attachments": {},
   "cell_type": "markdown",
   "metadata": {},
   "source": [
    "### Fine Tuning"
   ]
  },
  {
   "cell_type": "code",
   "execution_count": 106,
   "metadata": {},
   "outputs": [],
   "source": [
    "client = OpenAI()"
   ]
  },
  {
   "cell_type": "code",
   "execution_count": 107,
   "metadata": {},
   "outputs": [],
   "source": [
    "file_upload_resposne = client.files.create(file=open('99-Data/fine_tuning_data.jsonl', 'rb'),\n",
    "                                           purpose='fine-tune')"
   ]
  },
  {
   "cell_type": "code",
   "execution_count": 109,
   "metadata": {},
   "outputs": [],
   "source": [
    "file_upload_resposne_val = client.files.create(file=open('99-Data/fine_tuning_data_val.jsonl', 'rb'),\n",
    "                                               purpose='fine-tune')"
   ]
  },
  {
   "cell_type": "code",
   "execution_count": 110,
   "metadata": {},
   "outputs": [],
   "source": [
    "fine_tuning_response = client.fine_tuning.jobs.create(training_file=file_upload_resposne.id,\n",
    "                                                      model='gpt-3.5-turbo',\n",
    "                                                      hyperparameters={'n_epochs':1},\n",
    "                                                      validation_file=file_upload_resposne_val.id\n",
    "                                                      )"
   ]
  },
  {
   "cell_type": "code",
   "execution_count": 111,
   "metadata": {},
   "outputs": [
    {
     "data": {
      "text/plain": [
       "FineTuningJob(id='ftjob-1lrW1Xcab9ZpXenl0p174Dbq', created_at=1704754102, error=None, fine_tuned_model=None, finished_at=None, hyperparameters=Hyperparameters(n_epochs=1, batch_size='auto', learning_rate_multiplier='auto'), model='gpt-3.5-turbo-0613', object='fine_tuning.job', organization_id='org-iLUDzGmfN9Ii52Ut7scDVGtz', result_files=[], status='validating_files', trained_tokens=None, training_file='file-k7eGK9og7RuFezCpy0R0QcQW', validation_file='file-r7QkxD8tifXPqpnOekNgOfhU')"
      ]
     },
     "execution_count": 111,
     "metadata": {},
     "output_type": "execute_result"
    }
   ],
   "source": [
    "fine_tuning_response"
   ]
  },
  {
   "cell_type": "code",
   "execution_count": 117,
   "metadata": {},
   "outputs": [
    {
     "data": {
      "text/plain": [
       "SyncCursorPage[FineTuningJob](data=[FineTuningJob(id='ftjob-1lrW1Xcab9ZpXenl0p174Dbq', created_at=1704754102, error=None, fine_tuned_model='ft:gpt-3.5-turbo-0613:personal::8et4Pu9X', finished_at=1704755500, hyperparameters=Hyperparameters(n_epochs=1, batch_size=1, learning_rate_multiplier=2), model='gpt-3.5-turbo-0613', object='fine_tuning.job', organization_id='org-iLUDzGmfN9Ii52Ut7scDVGtz', result_files=['file-Z8DJsjxoHHGINcZK7fenQYop'], status='succeeded', trained_tokens=351063, training_file='file-k7eGK9og7RuFezCpy0R0QcQW', validation_file='file-r7QkxD8tifXPqpnOekNgOfhU')], object='list', has_more=False)"
      ]
     },
     "execution_count": 117,
     "metadata": {},
     "output_type": "execute_result"
    }
   ],
   "source": [
    "client.fine_tuning.jobs.list(limit=1)"
   ]
  },
  {
   "attachments": {},
   "cell_type": "markdown",
   "metadata": {},
   "source": [
    "### Evaluation"
   ]
  },
  {
   "cell_type": "code",
   "execution_count": 118,
   "metadata": {},
   "outputs": [],
   "source": [
    "train_event = client.fine_tuning.jobs.list_events(fine_tuning_job_id='ftjob-1lrW1Xcab9ZpXenl0p174Dbq',\n",
    "                                                  limit=500\n",
    "                                                  )"
   ]
  },
  {
   "cell_type": "code",
   "execution_count": 124,
   "metadata": {},
   "outputs": [
    {
     "data": {
      "text/plain": [
       "{'step': 491,\n",
       " 'train_loss': 1.430511474609375e-06,\n",
       " 'valid_loss': 1.430511474609375e-06,\n",
       " 'train_mean_token_accuracy': 1.0,\n",
       " 'valid_mean_token_accuracy': 0.25}"
      ]
     },
     "execution_count": 124,
     "metadata": {},
     "output_type": "execute_result"
    }
   ],
   "source": [
    "train_event.data[2].data"
   ]
  },
  {
   "cell_type": "code",
   "execution_count": 125,
   "metadata": {},
   "outputs": [],
   "source": [
    "train_loss = []\n",
    "val_loss = []\n",
    "\n",
    "for item in train_event.data:\n",
    "    train_data = item.data\n",
    "    if train_data and 'train_loss' in train_data:\n",
    "        train_loss.insert(0, train_data['train_loss'])\n",
    "        val_loss.insert(0, train_data['valid_loss'])"
   ]
  },
  {
   "cell_type": "code",
   "execution_count": 129,
   "metadata": {},
   "outputs": [
    {
     "data": {
      "image/png": "[encoded data removed]",
      "text/plain": [
       "<Figure size 640x480 with 1 Axes>"
      ]
     },
     "metadata": {},
     "output_type": "display_data"
    }
   ],
   "source": [
    "plt.figure()\n",
    "plt.plot(train_loss)\n",
    "plt.plot(val_loss)\n",
    "plt.show()\n"
   ]
  },
  {
   "attachments": {},
   "cell_type": "markdown",
   "metadata": {},
   "source": [
    "### Apply fine tune model"
   ]
  },
  {
   "cell_type": "code",
   "execution_count": 134,
   "metadata": {},
   "outputs": [],
   "source": [
    "# general model\n",
    "completion = client.chat.completions.create(model='gpt-3.5-turbo',\n",
    "                                           messages = [\n",
    "                                               {'role': 'system',\n",
    "                                                'content': system_prompt},\n",
    "                                               {'role': 'user',\n",
    "                                                'content': test['report'].iloc[1]}\n",
    "                                           ])"
   ]
  },
  {
   "cell_type": "code",
   "execution_count": 135,
   "metadata": {},
   "outputs": [
    {
     "data": {
      "text/plain": [
       "ChatCompletionMessage(content='Cardiovascular / Pulmonary', role='assistant', function_call=None, tool_calls=None)"
      ]
     },
     "execution_count": 135,
     "metadata": {},
     "output_type": "execute_result"
    }
   ],
   "source": [
    "completion.choices[0].message"
   ]
  },
  {
   "cell_type": "code",
   "execution_count": 138,
   "metadata": {},
   "outputs": [],
   "source": [
    "# fine tune model\n",
    "completion = client.chat.completions.create(model='ft:gpt-3.5-turbo-0613:personal::8et4Pu9X',\n",
    "                                           messages = [\n",
    "                                               {'role': 'system',\n",
    "                                                'content': system_prompt},\n",
    "                                               {'role': 'user',\n",
    "                                                'content': test['report'].iloc[1]}\n",
    "                                           ])"
   ]
  },
  {
   "cell_type": "code",
   "execution_count": 139,
   "metadata": {},
   "outputs": [
    {
     "data": {
      "text/plain": [
       "ChatCompletionMessage(content='Cardiovascular / Pulmonary', role='assistant', function_call=None, tool_calls=None)"
      ]
     },
     "execution_count": 139,
     "metadata": {},
     "output_type": "execute_result"
    }
   ],
   "source": [
    "completion.choices[0].message"
   ]
  },
  {
   "cell_type": "code",
   "execution_count": 140,
   "metadata": {},
   "outputs": [],
   "source": [
    "def classify_report(report, model):\n",
    "    completion = client.chat.completions.create(model=model,\n",
    "                                           messages = [\n",
    "                                               {'role': 'system',\n",
    "                                                'content': system_prompt},\n",
    "                                               {'role': 'user',\n",
    "                                                'content': report}\n",
    "                                           ])\n",
    "    return completion"
   ]
  },
  {
   "cell_type": "code",
   "execution_count": 141,
   "metadata": {},
   "outputs": [],
   "source": [
    "predicted_classes = []\n",
    "ground_truth_classess = []\n",
    "\n",
    "for line in test.iterrows():\n",
    "    report, speciality = line[1]['report'], line[1]['medical_specialty']\n",
    "    ground_truth_classess.append(speciality.strip())\n",
    "    prediction = classify_report(report, model='gpt-3.5-turbo')\n",
    "    predicted_classes.append(prediction.choices[0].message.content.strip())"
   ]
  },
  {
   "cell_type": "code",
   "execution_count": 143,
   "metadata": {},
   "outputs": [
    {
     "data": {
      "text/plain": [
       "0.6"
      ]
     },
     "execution_count": 143,
     "metadata": {},
     "output_type": "execute_result"
    }
   ],
   "source": [
    "# accuracy general model\n",
    "(np.array(predicted_classes) == np.array(ground_truth_classess)).mean()"
   ]
  },
  {
   "cell_type": "code",
   "execution_count": 144,
   "metadata": {},
   "outputs": [],
   "source": [
    "predicted_classes = []\n",
    "ground_truth_classess = []\n",
    "\n",
    "for line in test.iterrows():\n",
    "    report, speciality = line[1]['report'], line[1]['medical_specialty']\n",
    "    ground_truth_classess.append(speciality.strip())\n",
    "    prediction = classify_report(report, model='ft:gpt-3.5-turbo-0613:personal::8et4Pu9X')\n",
    "    predicted_classes.append(prediction.choices[0].message.content.strip())"
   ]
  },
  {
   "cell_type": "code",
   "execution_count": 145,
   "metadata": {},
   "outputs": [
    {
     "data": {
      "text/plain": [
       "0.8"
      ]
     },
     "execution_count": 145,
     "metadata": {},
     "output_type": "execute_result"
    }
   ],
   "source": [
    "# accuracy fine tune model\n",
    "(np.array(predicted_classes) == np.array(ground_truth_classess)).mean()"
   ]
  },
  {
   "cell_type": "code",
   "execution_count": null,
   "metadata": {},
   "outputs": [],
   "source": []
  }
 ],
 "metadata": {
  "kernelspec": {
   "display_name": "fine_tune",
   "language": "python",
   "name": "fine_tune"
  },
  "language_info": {
   "codemirror_mode": {
    "name": "ipython",
    "version": 3
   },
   "file_extension": ".py",
   "mimetype": "text/x-python",
   "name": "python",
   "nbconvert_exporter": "python",
   "pygments_lexer": "ipython3",
   "version": "3.9.18"
  },
  "orig_nbformat": 4
 },
 "nbformat": 4,
 "nbformat_minor": 2
}
